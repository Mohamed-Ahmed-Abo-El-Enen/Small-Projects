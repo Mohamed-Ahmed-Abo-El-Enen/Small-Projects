{
 "cells": [
  {
   "cell_type": "markdown",
   "metadata": {},
   "source": [
    "# Face Recognition using CNN"
   ]
  },
  {
   "cell_type": "markdown",
   "metadata": {},
   "source": [
    " # Import Lib:"
   ]
  },
  {
   "cell_type": "code",
   "execution_count": 31,
   "metadata": {
    "pycharm": {
     "is_executing": true
    }
   },
   "outputs": [],
   "source": [
    "import keras\n",
    "from keras.models import Sequential\n",
    "from keras.layers import Conv2D, MaxPooling2D, Dense, Flatten, Dropout\n",
    "from keras.optimizers import Adam\n",
    "from keras.callbacks import TensorBoard\n",
    "from keras.models import load_model\n",
    "\n",
    "import numpy as np\n",
    "import pandas as pd\n",
    "import matplotlib.pyplot as plt\n",
    "from sklearn.model_selection import train_test_split\n",
    "\n",
    "from sklearn.metrics import confusion_matrix\n",
    "from sklearn.metrics import classification_report\n",
    "from sklearn.metrics import roc_curve, auc\n",
    "from sklearn.metrics import accuracy_score\n",
    "from keras.utils import np_utils\n",
    "import itertools"
   ]
  },
  {
   "cell_type": "markdown",
   "metadata": {},
   "source": [
    "# Load \"ORL_faces\" Dataset:\n"
   ]
  },
  {
   "cell_type": "code",
   "execution_count": 32,
   "metadata": {
    "pycharm": {
     "is_executing": true
    }
   },
   "outputs": [
    {
     "name": "stdout",
     "output_type": "stream",
     "text": [
      "x_train : [[0.1882353  0.19215687 0.1764706  ... 0.18431373 0.18039216 0.18039216]\n",
      " [0.23529412 0.23529412 0.24313726 ... 0.1254902  0.13333334 0.13333334]\n",
      " [0.15294118 0.17254902 0.20784314 ... 0.11372549 0.10196079 0.11372549]\n",
      " ...\n",
      " [0.44705883 0.45882353 0.44705883 ... 0.38431373 0.3764706  0.38431373]\n",
      " [0.4117647  0.4117647  0.41960785 ... 0.21176471 0.18431373 0.16078432]\n",
      " [0.45490196 0.44705883 0.45882353 ... 0.37254903 0.39215687 0.39607844]]\n",
      "Y-train shape: [ 0  0  0  0  0  0  0  0  0  0  0  0  1  1  1  1  1  1  1  1  1  1  1  1\n",
      "  2  2  2  2  2  2  2  2  2  2  2  2  3  3  3  3  3  3  3  3  3  3  3  3\n",
      "  4  4  4  4  4  4  4  4  4  4  4  4  5  5  5  5  5  5  5  5  5  5  5  5\n",
      "  6  6  6  6  6  6  6  6  6  6  6  6  7  7  7  7  7  7  7  7  7  7  7  7\n",
      "  8  8  8  8  8  8  8  8  8  8  8  8  9  9  9  9  9  9  9  9  9  9  9  9\n",
      " 10 10 10 10 10 10 10 10 10 10 10 10 11 11 11 11 11 11 11 11 11 11 11 11\n",
      " 12 12 12 12 12 12 12 12 12 12 12 12 13 13 13 13 13 13 13 13 13 13 13 13\n",
      " 14 14 14 14 14 14 14 14 14 14 14 14 15 15 15 15 15 15 15 15 15 15 15 15\n",
      " 16 16 16 16 16 16 16 16 16 16 16 16 17 17 17 17 17 17 17 17 17 17 17 17\n",
      " 18 18 18 18 18 18 18 18 18 18 18 18 19 19 19 19 19 19 19 19 19 19 19 19]\n",
      "x_test shape: (160, 10304)\n"
     ]
    }
   ],
   "source": [
    "#load dataset\n",
    "data = np.load('ORL_faces.npz') \n",
    "\n",
    "# load the \"Train Images\"\n",
    "x_train = data['trainX']\n",
    "#normalize every image\n",
    "x_train = np.array(x_train,dtype='float32')/255\n",
    "\n",
    "x_test = data['testX']\n",
    "x_test = np.array(x_test,dtype='float32')/255\n",
    "\n",
    "# load the Label of Images\n",
    "y_train= data['trainY']\n",
    "y_test= data['testY']\n",
    "\n",
    "# show the train and test Data format\n",
    "print('x_train : {}'.format(x_train[:]))\n",
    "print('Y-train shape: {}'.format(y_train))\n",
    "print('x_test shape: {}'.format(x_test.shape))"
   ]
  },
  {
   "cell_type": "markdown",
   "metadata": {},
   "source": [
    "# Split Dataset To train, test Dataset\n"
   ]
  },
  {
   "cell_type": "code",
   "execution_count": 33,
   "metadata": {
    "pycharm": {
     "is_executing": true
    }
   },
   "outputs": [],
   "source": [
    "x_train, x_valid, y_train, y_valid= train_test_split(\n",
    "    x_train, y_train, test_size=.05, random_state=1234,)"
   ]
  },
  {
   "cell_type": "markdown",
   "metadata": {},
   "source": [
    "# Change Size Of Images\n",
    "\n",
    "need to change The size of images ( The size of images must be the same)"
   ]
  },
  {
   "cell_type": "code",
   "execution_count": 34,
   "metadata": {
    "pycharm": {
     "is_executing": true
    }
   },
   "outputs": [
    {
     "name": "stdout",
     "output_type": "stream",
     "text": [
      "x_train shape: (228, 112, 92, 1)\n",
      "y_train shape: (228,)\n",
      "x_test shape: (160, 112, 92, 1)\n",
      "y_test shape: (160,)\n"
     ]
    }
   ],
   "source": [
    "im_rows=112\n",
    "im_cols=92\n",
    "batch_size=512\n",
    "im_shape=(im_rows, im_cols, 1)\n",
    "\n",
    "#change the size of images\n",
    "x_train = x_train.reshape(x_train.shape[0], *im_shape)\n",
    "x_test = x_test.reshape(x_test.shape[0], *im_shape)\n",
    "x_valid = x_valid.reshape(x_valid.shape[0], *im_shape)\n",
    "\n",
    "print('x_train shape: {}'.format(x_train.shape))\n",
    "print('y_train shape: {}'.format(y_train.shape))\n",
    "\n",
    "print('x_test shape: {}'.format(x_test.shape))\n",
    "print('y_test shape: {}'.format(y_test.shape))"
   ]
  },
  {
   "cell_type": "markdown",
   "metadata": {},
   "source": [
    "# Step 5\n",
    "\n",
    "\n",
    "Build CNN model:\n",
    " CNN have 3 main layer: \n",
    " * 1-Convolotional layer \n",
    " * 2- pooling layer  \n",
    " * 3- fully connected layer\n",
    " \n",
    " could build a new architecture of CNN by changing the number and position of layers.\n",
    " "
   ]
  },
  {
   "cell_type": "code",
   "execution_count": 35,
   "metadata": {
    "pycharm": {
     "is_executing": true
    }
   },
   "outputs": [],
   "source": [
    "\n",
    "numClass = 40\n",
    "\n",
    "cnn_model= Sequential([\n",
    "    Conv2D(filters=36, kernel_size=7, activation='relu', input_shape= im_shape),\n",
    "    MaxPooling2D(pool_size=2),\n",
    "    Conv2D(filters=64, kernel_size=5, activation='relu', input_shape= im_shape),\n",
    "    MaxPooling2D(pool_size=2),\n",
    "    Flatten(),\n",
    "    Dense(2024, activation='relu'),\n",
    "    Dropout(0.5),\n",
    "    Dense(1024, activation='relu'),\n",
    "    Dropout(0.5),\n",
    "    Dense(512, activation='relu'),\n",
    "    Dropout(0.5),\n",
    "    Dense(numClass, activation='softmax')  \n",
    "])\n",
    "\n",
    "cnn_model.compile(\n",
    "    loss='sparse_categorical_crossentropy',#'categorical_crossentropy',\n",
    "    optimizer=Adam(lr=0.0001),\n",
    "    metrics=['accuracy']\n",
    ")"
   ]
  },
  {
   "cell_type": "markdown",
   "metadata": {},
   "source": [
    "Show the model's parameters."
   ]
  },
  {
   "cell_type": "code",
   "execution_count": 36,
   "metadata": {
    "pycharm": {
     "is_executing": true
    }
   },
   "outputs": [
    {
     "name": "stdout",
     "output_type": "stream",
     "text": [
      "Model: \"sequential\"\n",
      "_________________________________________________________________\n",
      "Layer (type)                 Output Shape              Param #   \n",
      "=================================================================\n",
      "conv2d (Conv2D)              (None, 106, 86, 36)       1800      \n",
      "_________________________________________________________________\n",
      "max_pooling2d (MaxPooling2D) (None, 53, 43, 36)        0         \n",
      "_________________________________________________________________\n",
      "conv2d_1 (Conv2D)            (None, 49, 39, 64)        57664     \n",
      "_________________________________________________________________\n",
      "max_pooling2d_1 (MaxPooling2 (None, 24, 19, 64)        0         \n",
      "_________________________________________________________________\n",
      "flatten (Flatten)            (None, 29184)             0         \n",
      "_________________________________________________________________\n",
      "dense (Dense)                (None, 2024)              59070440  \n",
      "_________________________________________________________________\n",
      "dropout (Dropout)            (None, 2024)              0         \n",
      "_________________________________________________________________\n",
      "dense_1 (Dense)              (None, 1024)              2073600   \n",
      "_________________________________________________________________\n",
      "dropout_1 (Dropout)          (None, 1024)              0         \n",
      "_________________________________________________________________\n",
      "dense_2 (Dense)              (None, 512)               524800    \n",
      "_________________________________________________________________\n",
      "dropout_2 (Dropout)          (None, 512)               0         \n",
      "_________________________________________________________________\n",
      "dense_3 (Dense)              (None, 40)                20520     \n",
      "=================================================================\n",
      "Total params: 61,748,824\n",
      "Trainable params: 61,748,824\n",
      "Non-trainable params: 0\n",
      "_________________________________________________________________\n"
     ]
    }
   ],
   "source": [
    "cnn_model.summary()"
   ]
  },
  {
   "cell_type": "markdown",
   "metadata": {},
   "source": [
    "# Train the Model\n",
    "\n",
    "\n"
   ]
  },
  {
   "cell_type": "code",
   "execution_count": 37,
   "metadata": {
    "pycharm": {
     "is_executing": true
    }
   },
   "outputs": [
    {
     "name": "stdout",
     "output_type": "stream",
     "text": [
      "Epoch 1/250\n",
      "1/1 - 1s - loss: 3.6983 - accuracy: 0.0307 - val_loss: 3.6788 - val_accuracy: 0.0000e+00\n",
      "Epoch 2/250\n",
      "1/1 - 0s - loss: 3.6365 - accuracy: 0.0395 - val_loss: 3.6312 - val_accuracy: 0.0000e+00\n",
      "Epoch 3/250\n",
      "1/1 - 0s - loss: 3.5810 - accuracy: 0.0746 - val_loss: 3.5592 - val_accuracy: 0.0000e+00\n",
      "Epoch 4/250\n",
      "1/1 - 0s - loss: 3.5117 - accuracy: 0.0439 - val_loss: 3.4957 - val_accuracy: 0.0000e+00\n",
      "Epoch 5/250\n",
      "1/1 - 0s - loss: 3.4646 - accuracy: 0.0833 - val_loss: 3.4325 - val_accuracy: 0.0000e+00\n",
      "Epoch 6/250\n",
      "1/1 - 0s - loss: 3.3985 - accuracy: 0.0746 - val_loss: 3.3767 - val_accuracy: 0.0000e+00\n",
      "Epoch 7/250\n",
      "1/1 - 0s - loss: 3.4264 - accuracy: 0.0570 - val_loss: 3.3290 - val_accuracy: 0.0000e+00\n",
      "Epoch 8/250\n",
      "1/1 - 0s - loss: 3.4310 - accuracy: 0.0526 - val_loss: 3.2829 - val_accuracy: 0.0000e+00\n",
      "Epoch 9/250\n",
      "1/1 - 0s - loss: 3.3621 - accuracy: 0.0570 - val_loss: 3.2422 - val_accuracy: 0.0833\n",
      "Epoch 10/250\n",
      "1/1 - 0s - loss: 3.3191 - accuracy: 0.0439 - val_loss: 3.2140 - val_accuracy: 0.0833\n",
      "Epoch 11/250\n",
      "1/1 - 0s - loss: 3.3489 - accuracy: 0.0482 - val_loss: 3.1940 - val_accuracy: 0.0833\n",
      "Epoch 12/250\n",
      "1/1 - 0s - loss: 3.3545 - accuracy: 0.0570 - val_loss: 3.1841 - val_accuracy: 0.0833\n",
      "Epoch 13/250\n",
      "1/1 - 0s - loss: 3.3487 - accuracy: 0.0789 - val_loss: 3.1760 - val_accuracy: 0.0833\n",
      "Epoch 14/250\n",
      "1/1 - 0s - loss: 3.3825 - accuracy: 0.0482 - val_loss: 3.1754 - val_accuracy: 0.0833\n",
      "Epoch 15/250\n",
      "1/1 - 0s - loss: 3.2806 - accuracy: 0.0789 - val_loss: 3.1778 - val_accuracy: 0.0833\n",
      "Epoch 16/250\n",
      "1/1 - 0s - loss: 3.2453 - accuracy: 0.0833 - val_loss: 3.1768 - val_accuracy: 0.1667\n",
      "Epoch 17/250\n",
      "1/1 - 1s - loss: 3.2781 - accuracy: 0.0702 - val_loss: 3.1692 - val_accuracy: 0.1667\n",
      "Epoch 18/250\n",
      "1/1 - 0s - loss: 3.1964 - accuracy: 0.1053 - val_loss: 3.1494 - val_accuracy: 0.1667\n",
      "Epoch 19/250\n",
      "1/1 - 0s - loss: 3.2327 - accuracy: 0.0746 - val_loss: 3.1251 - val_accuracy: 0.1667\n",
      "Epoch 20/250\n",
      "1/1 - 0s - loss: 3.2488 - accuracy: 0.0482 - val_loss: 3.0981 - val_accuracy: 0.2500\n",
      "Epoch 21/250\n",
      "1/1 - 0s - loss: 3.2010 - accuracy: 0.0570 - val_loss: 3.0717 - val_accuracy: 0.2500\n",
      "Epoch 22/250\n",
      "1/1 - 0s - loss: 3.1444 - accuracy: 0.0877 - val_loss: 3.0480 - val_accuracy: 0.2500\n",
      "Epoch 23/250\n",
      "1/1 - 0s - loss: 3.1104 - accuracy: 0.1140 - val_loss: 3.0234 - val_accuracy: 0.2500\n",
      "Epoch 24/250\n",
      "1/1 - 0s - loss: 3.2011 - accuracy: 0.0614 - val_loss: 3.0124 - val_accuracy: 0.2500\n",
      "Epoch 25/250\n",
      "1/1 - 0s - loss: 3.0830 - accuracy: 0.0965 - val_loss: 2.9999 - val_accuracy: 0.2500\n",
      "Epoch 26/250\n",
      "1/1 - 1s - loss: 3.0583 - accuracy: 0.0877 - val_loss: 2.9878 - val_accuracy: 0.2500\n",
      "Epoch 27/250\n",
      "1/1 - 0s - loss: 3.0831 - accuracy: 0.0921 - val_loss: 2.9788 - val_accuracy: 0.3333\n",
      "Epoch 28/250\n",
      "1/1 - 0s - loss: 3.0953 - accuracy: 0.0965 - val_loss: 2.9748 - val_accuracy: 0.2500\n",
      "Epoch 29/250\n",
      "1/1 - 0s - loss: 3.0967 - accuracy: 0.0965 - val_loss: 2.9710 - val_accuracy: 0.2500\n",
      "Epoch 30/250\n",
      "1/1 - 0s - loss: 3.0097 - accuracy: 0.1140 - val_loss: 2.9655 - val_accuracy: 0.2500\n",
      "Epoch 31/250\n",
      "1/1 - 0s - loss: 3.0108 - accuracy: 0.1272 - val_loss: 2.9532 - val_accuracy: 0.2500\n",
      "Epoch 32/250\n",
      "1/1 - 2s - loss: 2.8969 - accuracy: 0.1272 - val_loss: 2.9292 - val_accuracy: 0.2500\n",
      "Epoch 33/250\n",
      "1/1 - 0s - loss: 2.9726 - accuracy: 0.1272 - val_loss: 2.9004 - val_accuracy: 0.2500\n",
      "Epoch 34/250\n",
      "1/1 - 0s - loss: 2.9995 - accuracy: 0.1228 - val_loss: 2.8723 - val_accuracy: 0.2500\n",
      "Epoch 35/250\n",
      "1/1 - 1s - loss: 2.9697 - accuracy: 0.1140 - val_loss: 2.8437 - val_accuracy: 0.2500\n",
      "Epoch 36/250\n",
      "1/1 - 0s - loss: 2.8744 - accuracy: 0.1798 - val_loss: 2.8079 - val_accuracy: 0.2500\n",
      "Epoch 37/250\n",
      "1/1 - 0s - loss: 2.8548 - accuracy: 0.1491 - val_loss: 2.7653 - val_accuracy: 0.2500\n",
      "Epoch 38/250\n",
      "1/1 - 0s - loss: 2.8055 - accuracy: 0.1798 - val_loss: 2.7229 - val_accuracy: 0.3333\n",
      "Epoch 39/250\n",
      "1/1 - 0s - loss: 2.7970 - accuracy: 0.1579 - val_loss: 2.6781 - val_accuracy: 0.3333\n",
      "Epoch 40/250\n",
      "1/1 - 0s - loss: 2.6936 - accuracy: 0.2105 - val_loss: 2.6264 - val_accuracy: 0.4167\n",
      "Epoch 41/250\n",
      "1/1 - 0s - loss: 2.8357 - accuracy: 0.1842 - val_loss: 2.5856 - val_accuracy: 0.4167\n",
      "Epoch 42/250\n",
      "1/1 - 0s - loss: 2.6813 - accuracy: 0.2368 - val_loss: 2.5440 - val_accuracy: 0.5000\n",
      "Epoch 43/250\n",
      "1/1 - 0s - loss: 2.6912 - accuracy: 0.2193 - val_loss: 2.5072 - val_accuracy: 0.5000\n",
      "Epoch 44/250\n",
      "1/1 - 0s - loss: 2.6253 - accuracy: 0.2193 - val_loss: 2.4738 - val_accuracy: 0.5833\n",
      "Epoch 45/250\n",
      "1/1 - 0s - loss: 2.6566 - accuracy: 0.2105 - val_loss: 2.4429 - val_accuracy: 0.6667\n",
      "Epoch 46/250\n",
      "1/1 - 0s - loss: 2.5269 - accuracy: 0.2544 - val_loss: 2.3979 - val_accuracy: 0.6667\n",
      "Epoch 47/250\n",
      "1/1 - 0s - loss: 2.4965 - accuracy: 0.2895 - val_loss: 2.3488 - val_accuracy: 0.5833\n",
      "Epoch 48/250\n",
      "1/1 - 0s - loss: 2.3950 - accuracy: 0.2895 - val_loss: 2.2955 - val_accuracy: 0.5833\n",
      "Epoch 49/250\n",
      "1/1 - 0s - loss: 2.4006 - accuracy: 0.3026 - val_loss: 2.2379 - val_accuracy: 0.5000\n",
      "Epoch 50/250\n",
      "1/1 - 0s - loss: 2.3099 - accuracy: 0.3377 - val_loss: 2.1739 - val_accuracy: 0.6667\n",
      "Epoch 51/250\n",
      "1/1 - 0s - loss: 2.3074 - accuracy: 0.3070 - val_loss: 2.1064 - val_accuracy: 0.6667\n",
      "Epoch 52/250\n",
      "1/1 - 0s - loss: 2.1966 - accuracy: 0.3728 - val_loss: 2.0414 - val_accuracy: 0.6667\n",
      "Epoch 53/250\n",
      "1/1 - 0s - loss: 2.0824 - accuracy: 0.4035 - val_loss: 1.9725 - val_accuracy: 0.6667\n",
      "Epoch 54/250\n",
      "1/1 - 0s - loss: 2.1798 - accuracy: 0.2982 - val_loss: 1.9023 - val_accuracy: 0.6667\n",
      "Epoch 55/250\n",
      "1/1 - 0s - loss: 2.0826 - accuracy: 0.3816 - val_loss: 1.8425 - val_accuracy: 0.7500\n",
      "Epoch 56/250\n",
      "1/1 - 0s - loss: 2.1239 - accuracy: 0.3465 - val_loss: 1.7881 - val_accuracy: 0.7500\n",
      "Epoch 57/250\n",
      "1/1 - 0s - loss: 2.0738 - accuracy: 0.4079 - val_loss: 1.7440 - val_accuracy: 0.7500\n",
      "Epoch 58/250\n",
      "1/1 - 0s - loss: 1.9950 - accuracy: 0.4474 - val_loss: 1.7028 - val_accuracy: 0.6667\n",
      "Epoch 59/250\n",
      "1/1 - 0s - loss: 1.8659 - accuracy: 0.4298 - val_loss: 1.6610 - val_accuracy: 0.6667\n",
      "Epoch 60/250\n",
      "1/1 - 0s - loss: 1.9204 - accuracy: 0.4254 - val_loss: 1.6132 - val_accuracy: 0.6667\n",
      "Epoch 61/250\n",
      "1/1 - 0s - loss: 1.8569 - accuracy: 0.4298 - val_loss: 1.5415 - val_accuracy: 0.7500\n",
      "Epoch 62/250\n",
      "1/1 - 0s - loss: 1.8339 - accuracy: 0.4605 - val_loss: 1.4779 - val_accuracy: 0.7500\n",
      "Epoch 63/250\n",
      "1/1 - 0s - loss: 1.5866 - accuracy: 0.5482 - val_loss: 1.4135 - val_accuracy: 0.8333\n",
      "Epoch 64/250\n",
      "1/1 - 0s - loss: 1.6447 - accuracy: 0.5000 - val_loss: 1.3578 - val_accuracy: 0.8333\n",
      "Epoch 65/250\n",
      "1/1 - 0s - loss: 1.5525 - accuracy: 0.5570 - val_loss: 1.2914 - val_accuracy: 0.8333\n",
      "Epoch 66/250\n",
      "1/1 - 0s - loss: 1.5034 - accuracy: 0.6140 - val_loss: 1.2070 - val_accuracy: 0.8333\n",
      "Epoch 67/250\n",
      "1/1 - 0s - loss: 1.3991 - accuracy: 0.5746 - val_loss: 1.1247 - val_accuracy: 0.8333\n",
      "Epoch 68/250\n",
      "1/1 - 0s - loss: 1.4538 - accuracy: 0.5526 - val_loss: 1.0517 - val_accuracy: 0.8333\n",
      "Epoch 69/250\n",
      "1/1 - 0s - loss: 1.4025 - accuracy: 0.5702 - val_loss: 0.9992 - val_accuracy: 0.8333\n",
      "Epoch 70/250\n",
      "1/1 - 0s - loss: 1.3832 - accuracy: 0.5746 - val_loss: 0.9639 - val_accuracy: 0.9167\n",
      "Epoch 71/250\n",
      "1/1 - 0s - loss: 1.2906 - accuracy: 0.6184 - val_loss: 0.9383 - val_accuracy: 0.8333\n",
      "Epoch 72/250\n",
      "1/1 - 0s - loss: 1.2410 - accuracy: 0.6140 - val_loss: 0.8899 - val_accuracy: 0.9167\n",
      "Epoch 73/250\n",
      "1/1 - 0s - loss: 1.2079 - accuracy: 0.6579 - val_loss: 0.8426 - val_accuracy: 0.9167\n",
      "Epoch 74/250\n",
      "1/1 - 0s - loss: 1.1644 - accuracy: 0.6930 - val_loss: 0.8077 - val_accuracy: 1.0000\n",
      "Epoch 75/250\n",
      "1/1 - 0s - loss: 1.2219 - accuracy: 0.6184 - val_loss: 0.7763 - val_accuracy: 1.0000\n",
      "Epoch 76/250\n",
      "1/1 - 0s - loss: 1.0885 - accuracy: 0.6754 - val_loss: 0.7443 - val_accuracy: 0.9167\n",
      "Epoch 77/250\n",
      "1/1 - 0s - loss: 1.0350 - accuracy: 0.7018 - val_loss: 0.6903 - val_accuracy: 0.9167\n",
      "Epoch 78/250\n",
      "1/1 - 0s - loss: 1.0140 - accuracy: 0.7149 - val_loss: 0.6233 - val_accuracy: 1.0000\n",
      "Epoch 79/250\n",
      "1/1 - 1s - loss: 0.9627 - accuracy: 0.7193 - val_loss: 0.5696 - val_accuracy: 1.0000\n",
      "Epoch 80/250\n",
      "1/1 - 0s - loss: 0.9508 - accuracy: 0.7018 - val_loss: 0.5349 - val_accuracy: 1.0000\n",
      "Epoch 81/250\n",
      "1/1 - 0s - loss: 0.9265 - accuracy: 0.7105 - val_loss: 0.5073 - val_accuracy: 0.9167\n",
      "Epoch 82/250\n",
      "1/1 - 0s - loss: 0.8268 - accuracy: 0.7412 - val_loss: 0.4720 - val_accuracy: 1.0000\n",
      "Epoch 83/250\n",
      "1/1 - 0s - loss: 0.8730 - accuracy: 0.7193 - val_loss: 0.4505 - val_accuracy: 1.0000\n",
      "Epoch 84/250\n",
      "1/1 - 0s - loss: 0.8088 - accuracy: 0.7851 - val_loss: 0.4380 - val_accuracy: 1.0000\n"
     ]
    },
    {
     "name": "stdout",
     "output_type": "stream",
     "text": [
      "Epoch 85/250\n",
      "1/1 - 0s - loss: 0.7936 - accuracy: 0.7895 - val_loss: 0.4204 - val_accuracy: 1.0000\n",
      "Epoch 86/250\n",
      "1/1 - 0s - loss: 0.7090 - accuracy: 0.8202 - val_loss: 0.4036 - val_accuracy: 1.0000\n",
      "Epoch 87/250\n",
      "1/1 - 0s - loss: 0.7496 - accuracy: 0.7851 - val_loss: 0.3770 - val_accuracy: 1.0000\n",
      "Epoch 88/250\n",
      "1/1 - 0s - loss: 0.7165 - accuracy: 0.7807 - val_loss: 0.3488 - val_accuracy: 1.0000\n",
      "Epoch 89/250\n",
      "1/1 - 0s - loss: 0.6560 - accuracy: 0.8333 - val_loss: 0.3147 - val_accuracy: 1.0000\n",
      "Epoch 90/250\n",
      "1/1 - 0s - loss: 0.7392 - accuracy: 0.8070 - val_loss: 0.2870 - val_accuracy: 1.0000\n",
      "Epoch 91/250\n",
      "1/1 - 0s - loss: 0.6653 - accuracy: 0.7982 - val_loss: 0.2695 - val_accuracy: 1.0000\n",
      "Epoch 92/250\n",
      "1/1 - 0s - loss: 0.5722 - accuracy: 0.8465 - val_loss: 0.2567 - val_accuracy: 1.0000\n",
      "Epoch 93/250\n",
      "1/1 - 0s - loss: 0.5008 - accuracy: 0.8684 - val_loss: 0.2404 - val_accuracy: 1.0000\n",
      "Epoch 94/250\n",
      "1/1 - 0s - loss: 0.4780 - accuracy: 0.8465 - val_loss: 0.2132 - val_accuracy: 1.0000\n",
      "Epoch 95/250\n",
      "1/1 - 0s - loss: 0.5221 - accuracy: 0.8421 - val_loss: 0.1904 - val_accuracy: 1.0000\n",
      "Epoch 96/250\n",
      "1/1 - 0s - loss: 0.4400 - accuracy: 0.8904 - val_loss: 0.1780 - val_accuracy: 1.0000\n",
      "Epoch 97/250\n",
      "1/1 - 0s - loss: 0.5040 - accuracy: 0.8465 - val_loss: 0.1918 - val_accuracy: 1.0000\n",
      "Epoch 98/250\n",
      "1/1 - 0s - loss: 0.4756 - accuracy: 0.8860 - val_loss: 0.2225 - val_accuracy: 0.9167\n",
      "Epoch 99/250\n",
      "1/1 - 0s - loss: 0.4179 - accuracy: 0.8904 - val_loss: 0.1808 - val_accuracy: 1.0000\n",
      "Epoch 100/250\n",
      "1/1 - 0s - loss: 0.4229 - accuracy: 0.8684 - val_loss: 0.1391 - val_accuracy: 1.0000\n",
      "Epoch 101/250\n",
      "1/1 - 0s - loss: 0.3951 - accuracy: 0.8684 - val_loss: 0.1369 - val_accuracy: 1.0000\n",
      "Epoch 102/250\n",
      "1/1 - 0s - loss: 0.3435 - accuracy: 0.9123 - val_loss: 0.1609 - val_accuracy: 1.0000\n",
      "Epoch 103/250\n",
      "1/1 - 0s - loss: 0.3707 - accuracy: 0.9123 - val_loss: 0.2017 - val_accuracy: 0.9167\n",
      "Epoch 104/250\n",
      "1/1 - 0s - loss: 0.3656 - accuracy: 0.8684 - val_loss: 0.1917 - val_accuracy: 0.9167\n",
      "Epoch 105/250\n",
      "1/1 - 0s - loss: 0.3723 - accuracy: 0.9167 - val_loss: 0.1517 - val_accuracy: 1.0000\n",
      "Epoch 106/250\n",
      "1/1 - 0s - loss: 0.2650 - accuracy: 0.9167 - val_loss: 0.1251 - val_accuracy: 1.0000\n",
      "Epoch 107/250\n",
      "1/1 - 0s - loss: 0.3334 - accuracy: 0.9079 - val_loss: 0.1193 - val_accuracy: 1.0000\n",
      "Epoch 108/250\n",
      "1/1 - 0s - loss: 0.3127 - accuracy: 0.9167 - val_loss: 0.1152 - val_accuracy: 1.0000\n",
      "Epoch 109/250\n",
      "1/1 - 0s - loss: 0.2528 - accuracy: 0.9298 - val_loss: 0.1146 - val_accuracy: 1.0000\n",
      "Epoch 110/250\n",
      "1/1 - 0s - loss: 0.2997 - accuracy: 0.9167 - val_loss: 0.1047 - val_accuracy: 1.0000\n",
      "Epoch 111/250\n",
      "1/1 - 0s - loss: 0.2601 - accuracy: 0.9430 - val_loss: 0.0926 - val_accuracy: 1.0000\n",
      "Epoch 112/250\n",
      "1/1 - 0s - loss: 0.2260 - accuracy: 0.9386 - val_loss: 0.0858 - val_accuracy: 1.0000\n",
      "Epoch 113/250\n",
      "1/1 - 0s - loss: 0.2646 - accuracy: 0.9298 - val_loss: 0.0853 - val_accuracy: 1.0000\n",
      "Epoch 114/250\n",
      "1/1 - 0s - loss: 0.2140 - accuracy: 0.9474 - val_loss: 0.0935 - val_accuracy: 1.0000\n",
      "Epoch 115/250\n",
      "1/1 - 0s - loss: 0.2242 - accuracy: 0.9342 - val_loss: 0.1037 - val_accuracy: 1.0000\n",
      "Epoch 116/250\n",
      "1/1 - 0s - loss: 0.2016 - accuracy: 0.9605 - val_loss: 0.0945 - val_accuracy: 1.0000\n",
      "Epoch 117/250\n",
      "1/1 - 0s - loss: 0.2176 - accuracy: 0.9430 - val_loss: 0.0774 - val_accuracy: 1.0000\n",
      "Epoch 118/250\n",
      "1/1 - 0s - loss: 0.1956 - accuracy: 0.9386 - val_loss: 0.0625 - val_accuracy: 1.0000\n",
      "Epoch 119/250\n",
      "1/1 - 0s - loss: 0.2066 - accuracy: 0.9605 - val_loss: 0.0595 - val_accuracy: 1.0000\n",
      "Epoch 120/250\n",
      "1/1 - 0s - loss: 0.2055 - accuracy: 0.9474 - val_loss: 0.0745 - val_accuracy: 1.0000\n",
      "Epoch 121/250\n",
      "1/1 - 0s - loss: 0.2169 - accuracy: 0.9386 - val_loss: 0.0994 - val_accuracy: 1.0000\n",
      "Epoch 122/250\n",
      "1/1 - 0s - loss: 0.1799 - accuracy: 0.9737 - val_loss: 0.1002 - val_accuracy: 1.0000\n",
      "Epoch 123/250\n",
      "1/1 - 0s - loss: 0.1821 - accuracy: 0.9474 - val_loss: 0.0780 - val_accuracy: 1.0000\n",
      "Epoch 124/250\n",
      "1/1 - 0s - loss: 0.1605 - accuracy: 0.9474 - val_loss: 0.0501 - val_accuracy: 1.0000\n",
      "Epoch 125/250\n",
      "1/1 - 0s - loss: 0.1976 - accuracy: 0.9561 - val_loss: 0.0430 - val_accuracy: 1.0000\n",
      "Epoch 126/250\n",
      "1/1 - 0s - loss: 0.1540 - accuracy: 0.9561 - val_loss: 0.0413 - val_accuracy: 1.0000\n",
      "Epoch 127/250\n",
      "1/1 - 0s - loss: 0.1577 - accuracy: 0.9693 - val_loss: 0.0476 - val_accuracy: 1.0000\n",
      "Epoch 128/250\n",
      "1/1 - 0s - loss: 0.1531 - accuracy: 0.9605 - val_loss: 0.0532 - val_accuracy: 1.0000\n",
      "Epoch 129/250\n",
      "1/1 - 0s - loss: 0.1892 - accuracy: 0.9342 - val_loss: 0.0539 - val_accuracy: 1.0000\n",
      "Epoch 130/250\n",
      "1/1 - 0s - loss: 0.1409 - accuracy: 0.9605 - val_loss: 0.0540 - val_accuracy: 1.0000\n",
      "Epoch 131/250\n",
      "1/1 - 0s - loss: 0.1306 - accuracy: 0.9825 - val_loss: 0.0485 - val_accuracy: 1.0000\n",
      "Epoch 132/250\n",
      "1/1 - 0s - loss: 0.1190 - accuracy: 0.9781 - val_loss: 0.0430 - val_accuracy: 1.0000\n",
      "Epoch 133/250\n",
      "1/1 - 0s - loss: 0.1293 - accuracy: 0.9693 - val_loss: 0.0445 - val_accuracy: 1.0000\n",
      "Epoch 134/250\n",
      "1/1 - 0s - loss: 0.1125 - accuracy: 0.9693 - val_loss: 0.0395 - val_accuracy: 1.0000\n",
      "Epoch 135/250\n",
      "1/1 - 0s - loss: 0.1184 - accuracy: 0.9649 - val_loss: 0.0344 - val_accuracy: 1.0000\n",
      "Epoch 136/250\n",
      "1/1 - 0s - loss: 0.1105 - accuracy: 0.9825 - val_loss: 0.0295 - val_accuracy: 1.0000\n",
      "Epoch 137/250\n",
      "1/1 - 0s - loss: 0.1149 - accuracy: 0.9868 - val_loss: 0.0273 - val_accuracy: 1.0000\n",
      "Epoch 138/250\n",
      "1/1 - 0s - loss: 0.1310 - accuracy: 0.9781 - val_loss: 0.0222 - val_accuracy: 1.0000\n",
      "Epoch 139/250\n",
      "1/1 - 0s - loss: 0.0786 - accuracy: 0.9868 - val_loss: 0.0193 - val_accuracy: 1.0000\n",
      "Epoch 140/250\n",
      "1/1 - 0s - loss: 0.1398 - accuracy: 0.9605 - val_loss: 0.0191 - val_accuracy: 1.0000\n",
      "Epoch 141/250\n",
      "1/1 - 0s - loss: 0.1150 - accuracy: 0.9605 - val_loss: 0.0225 - val_accuracy: 1.0000\n",
      "Epoch 142/250\n",
      "1/1 - 0s - loss: 0.0891 - accuracy: 0.9825 - val_loss: 0.0291 - val_accuracy: 1.0000\n",
      "Epoch 143/250\n",
      "1/1 - 0s - loss: 0.0745 - accuracy: 0.9956 - val_loss: 0.0303 - val_accuracy: 1.0000\n",
      "Epoch 144/250\n",
      "1/1 - 0s - loss: 0.1050 - accuracy: 0.9737 - val_loss: 0.0305 - val_accuracy: 1.0000\n",
      "Epoch 145/250\n",
      "1/1 - 0s - loss: 0.0871 - accuracy: 0.9825 - val_loss: 0.0229 - val_accuracy: 1.0000\n",
      "Epoch 146/250\n",
      "1/1 - 0s - loss: 0.1155 - accuracy: 0.9693 - val_loss: 0.0163 - val_accuracy: 1.0000\n",
      "Epoch 147/250\n",
      "1/1 - 0s - loss: 0.0734 - accuracy: 0.9825 - val_loss: 0.0127 - val_accuracy: 1.0000\n",
      "Epoch 148/250\n",
      "1/1 - 0s - loss: 0.1112 - accuracy: 0.9693 - val_loss: 0.0149 - val_accuracy: 1.0000\n",
      "Epoch 149/250\n",
      "1/1 - 0s - loss: 0.0811 - accuracy: 0.9825 - val_loss: 0.0214 - val_accuracy: 1.0000\n",
      "Epoch 150/250\n",
      "1/1 - 1s - loss: 0.0576 - accuracy: 0.9825 - val_loss: 0.0312 - val_accuracy: 1.0000\n",
      "Epoch 151/250\n",
      "1/1 - 0s - loss: 0.0931 - accuracy: 0.9693 - val_loss: 0.0273 - val_accuracy: 1.0000\n",
      "Epoch 152/250\n",
      "1/1 - 0s - loss: 0.0709 - accuracy: 0.9868 - val_loss: 0.0193 - val_accuracy: 1.0000\n",
      "Epoch 153/250\n",
      "1/1 - 0s - loss: 0.0687 - accuracy: 0.9825 - val_loss: 0.0115 - val_accuracy: 1.0000\n",
      "Epoch 154/250\n",
      "1/1 - 0s - loss: 0.0521 - accuracy: 0.9956 - val_loss: 0.0085 - val_accuracy: 1.0000\n",
      "Epoch 155/250\n",
      "1/1 - 0s - loss: 0.0635 - accuracy: 0.9912 - val_loss: 0.0071 - val_accuracy: 1.0000\n",
      "Epoch 156/250\n",
      "1/1 - 0s - loss: 0.0573 - accuracy: 0.9868 - val_loss: 0.0072 - val_accuracy: 1.0000\n",
      "Epoch 157/250\n",
      "1/1 - 0s - loss: 0.0768 - accuracy: 0.9781 - val_loss: 0.0100 - val_accuracy: 1.0000\n",
      "Epoch 158/250\n",
      "1/1 - 0s - loss: 0.0530 - accuracy: 0.9912 - val_loss: 0.0130 - val_accuracy: 1.0000\n",
      "Epoch 159/250\n",
      "1/1 - 0s - loss: 0.0562 - accuracy: 1.0000 - val_loss: 0.0121 - val_accuracy: 1.0000\n",
      "Epoch 160/250\n",
      "1/1 - 0s - loss: 0.0632 - accuracy: 0.9781 - val_loss: 0.0086 - val_accuracy: 1.0000\n",
      "Epoch 161/250\n",
      "1/1 - 0s - loss: 0.0522 - accuracy: 0.9868 - val_loss: 0.0066 - val_accuracy: 1.0000\n",
      "Epoch 162/250\n",
      "1/1 - 0s - loss: 0.0532 - accuracy: 0.9868 - val_loss: 0.0045 - val_accuracy: 1.0000\n",
      "Epoch 163/250\n",
      "1/1 - 0s - loss: 0.0626 - accuracy: 0.9825 - val_loss: 0.0042 - val_accuracy: 1.0000\n",
      "Epoch 164/250\n",
      "1/1 - 0s - loss: 0.0737 - accuracy: 0.9781 - val_loss: 0.0045 - val_accuracy: 1.0000\n",
      "Epoch 165/250\n",
      "1/1 - 0s - loss: 0.0727 - accuracy: 0.9912 - val_loss: 0.0076 - val_accuracy: 1.0000\n",
      "Epoch 166/250\n",
      "1/1 - 0s - loss: 0.0528 - accuracy: 0.9912 - val_loss: 0.0121 - val_accuracy: 1.0000\n",
      "Epoch 167/250\n",
      "1/1 - 0s - loss: 0.0606 - accuracy: 0.9912 - val_loss: 0.0182 - val_accuracy: 1.0000\n"
     ]
    },
    {
     "name": "stdout",
     "output_type": "stream",
     "text": [
      "Epoch 168/250\n",
      "1/1 - 0s - loss: 0.0420 - accuracy: 0.9912 - val_loss: 0.0191 - val_accuracy: 1.0000\n",
      "Epoch 169/250\n",
      "1/1 - 0s - loss: 0.0679 - accuracy: 0.9912 - val_loss: 0.0143 - val_accuracy: 1.0000\n",
      "Epoch 170/250\n",
      "1/1 - 0s - loss: 0.0449 - accuracy: 0.9868 - val_loss: 0.0097 - val_accuracy: 1.0000\n",
      "Epoch 171/250\n",
      "1/1 - 0s - loss: 0.0467 - accuracy: 0.9868 - val_loss: 0.0071 - val_accuracy: 1.0000\n",
      "Epoch 172/250\n",
      "1/1 - 0s - loss: 0.0450 - accuracy: 0.9868 - val_loss: 0.0058 - val_accuracy: 1.0000\n",
      "Epoch 173/250\n",
      "1/1 - 0s - loss: 0.0415 - accuracy: 0.9912 - val_loss: 0.0049 - val_accuracy: 1.0000\n",
      "Epoch 174/250\n",
      "1/1 - 0s - loss: 0.0509 - accuracy: 0.9868 - val_loss: 0.0059 - val_accuracy: 1.0000\n",
      "Epoch 175/250\n",
      "1/1 - 0s - loss: 0.0405 - accuracy: 0.9956 - val_loss: 0.0079 - val_accuracy: 1.0000\n",
      "Epoch 176/250\n",
      "1/1 - 0s - loss: 0.0500 - accuracy: 0.9868 - val_loss: 0.0126 - val_accuracy: 1.0000\n",
      "Epoch 177/250\n",
      "1/1 - 0s - loss: 0.0474 - accuracy: 0.9912 - val_loss: 0.0114 - val_accuracy: 1.0000\n",
      "Epoch 178/250\n",
      "1/1 - 0s - loss: 0.0708 - accuracy: 0.9868 - val_loss: 0.0075 - val_accuracy: 1.0000\n",
      "Epoch 179/250\n",
      "1/1 - 0s - loss: 0.0305 - accuracy: 0.9956 - val_loss: 0.0052 - val_accuracy: 1.0000\n",
      "Epoch 180/250\n",
      "1/1 - 0s - loss: 0.0323 - accuracy: 1.0000 - val_loss: 0.0038 - val_accuracy: 1.0000\n",
      "Epoch 181/250\n",
      "1/1 - 0s - loss: 0.0338 - accuracy: 1.0000 - val_loss: 0.0034 - val_accuracy: 1.0000\n",
      "Epoch 182/250\n",
      "1/1 - 0s - loss: 0.0457 - accuracy: 0.9912 - val_loss: 0.0044 - val_accuracy: 1.0000\n",
      "Epoch 183/250\n",
      "1/1 - 0s - loss: 0.0358 - accuracy: 0.9868 - val_loss: 0.0065 - val_accuracy: 1.0000\n",
      "Epoch 184/250\n",
      "1/1 - 0s - loss: 0.0378 - accuracy: 0.9912 - val_loss: 0.0095 - val_accuracy: 1.0000\n",
      "Epoch 185/250\n",
      "1/1 - 0s - loss: 0.0572 - accuracy: 0.9737 - val_loss: 0.0113 - val_accuracy: 1.0000\n",
      "Epoch 186/250\n",
      "1/1 - 0s - loss: 0.0435 - accuracy: 0.9868 - val_loss: 0.0076 - val_accuracy: 1.0000\n",
      "Epoch 187/250\n",
      "1/1 - 0s - loss: 0.0284 - accuracy: 1.0000 - val_loss: 0.0043 - val_accuracy: 1.0000\n",
      "Epoch 188/250\n",
      "1/1 - 0s - loss: 0.0473 - accuracy: 0.9956 - val_loss: 0.0030 - val_accuracy: 1.0000\n",
      "Epoch 189/250\n",
      "1/1 - 0s - loss: 0.0420 - accuracy: 0.9956 - val_loss: 0.0028 - val_accuracy: 1.0000\n",
      "Epoch 190/250\n",
      "1/1 - 0s - loss: 0.0603 - accuracy: 0.9693 - val_loss: 0.0035 - val_accuracy: 1.0000\n",
      "Epoch 191/250\n",
      "1/1 - 0s - loss: 0.0273 - accuracy: 0.9912 - val_loss: 0.0043 - val_accuracy: 1.0000\n",
      "Epoch 192/250\n",
      "1/1 - 0s - loss: 0.0260 - accuracy: 1.0000 - val_loss: 0.0054 - val_accuracy: 1.0000\n",
      "Epoch 193/250\n",
      "1/1 - 0s - loss: 0.0261 - accuracy: 0.9868 - val_loss: 0.0066 - val_accuracy: 1.0000\n",
      "Epoch 194/250\n",
      "1/1 - 0s - loss: 0.0283 - accuracy: 0.9912 - val_loss: 0.0062 - val_accuracy: 1.0000\n",
      "Epoch 195/250\n",
      "1/1 - 0s - loss: 0.0407 - accuracy: 0.9912 - val_loss: 0.0058 - val_accuracy: 1.0000\n",
      "Epoch 196/250\n",
      "1/1 - 0s - loss: 0.0476 - accuracy: 0.9912 - val_loss: 0.0052 - val_accuracy: 1.0000\n",
      "Epoch 197/250\n",
      "1/1 - 0s - loss: 0.0284 - accuracy: 0.9912 - val_loss: 0.0043 - val_accuracy: 1.0000\n",
      "Epoch 198/250\n",
      "1/1 - 0s - loss: 0.0301 - accuracy: 1.0000 - val_loss: 0.0034 - val_accuracy: 1.0000\n",
      "Epoch 199/250\n",
      "1/1 - 0s - loss: 0.0494 - accuracy: 0.9868 - val_loss: 0.0035 - val_accuracy: 1.0000\n",
      "Epoch 200/250\n",
      "1/1 - 0s - loss: 0.0328 - accuracy: 0.9956 - val_loss: 0.0044 - val_accuracy: 1.0000\n",
      "Epoch 201/250\n",
      "1/1 - 0s - loss: 0.0240 - accuracy: 0.9912 - val_loss: 0.0053 - val_accuracy: 1.0000\n",
      "Epoch 202/250\n",
      "1/1 - 0s - loss: 0.0337 - accuracy: 0.9912 - val_loss: 0.0066 - val_accuracy: 1.0000\n",
      "Epoch 203/250\n",
      "1/1 - 0s - loss: 0.0233 - accuracy: 1.0000 - val_loss: 0.0080 - val_accuracy: 1.0000\n",
      "Epoch 204/250\n",
      "1/1 - 0s - loss: 0.0304 - accuracy: 0.9868 - val_loss: 0.0085 - val_accuracy: 1.0000\n",
      "Epoch 205/250\n",
      "1/1 - 0s - loss: 0.0401 - accuracy: 0.9912 - val_loss: 0.0046 - val_accuracy: 1.0000\n",
      "Epoch 206/250\n",
      "1/1 - 0s - loss: 0.0310 - accuracy: 0.9956 - val_loss: 0.0027 - val_accuracy: 1.0000\n",
      "Epoch 207/250\n",
      "1/1 - 0s - loss: 0.0433 - accuracy: 0.9912 - val_loss: 0.0019 - val_accuracy: 1.0000\n",
      "Epoch 208/250\n",
      "1/1 - 0s - loss: 0.0374 - accuracy: 0.9956 - val_loss: 0.0017 - val_accuracy: 1.0000\n",
      "Epoch 209/250\n",
      "1/1 - 0s - loss: 0.0297 - accuracy: 0.9956 - val_loss: 0.0021 - val_accuracy: 1.0000\n",
      "Epoch 210/250\n",
      "1/1 - 0s - loss: 0.0234 - accuracy: 1.0000 - val_loss: 0.0027 - val_accuracy: 1.0000\n",
      "Epoch 211/250\n",
      "1/1 - 0s - loss: 0.0332 - accuracy: 0.9868 - val_loss: 0.0041 - val_accuracy: 1.0000\n",
      "Epoch 212/250\n",
      "1/1 - 0s - loss: 0.0266 - accuracy: 0.9912 - val_loss: 0.0039 - val_accuracy: 1.0000\n",
      "Epoch 213/250\n",
      "1/1 - 0s - loss: 0.0205 - accuracy: 1.0000 - val_loss: 0.0030 - val_accuracy: 1.0000\n",
      "Epoch 214/250\n",
      "1/1 - 0s - loss: 0.0241 - accuracy: 1.0000 - val_loss: 0.0021 - val_accuracy: 1.0000\n",
      "Epoch 215/250\n",
      "1/1 - 0s - loss: 0.0261 - accuracy: 0.9956 - val_loss: 0.0015 - val_accuracy: 1.0000\n",
      "Epoch 216/250\n",
      "1/1 - 0s - loss: 0.0369 - accuracy: 0.9868 - val_loss: 0.0011 - val_accuracy: 1.0000\n",
      "Epoch 217/250\n",
      "1/1 - 0s - loss: 0.0239 - accuracy: 1.0000 - val_loss: 8.0281e-04 - val_accuracy: 1.0000\n",
      "Epoch 218/250\n",
      "1/1 - 0s - loss: 0.0375 - accuracy: 0.9956 - val_loss: 7.4643e-04 - val_accuracy: 1.0000\n",
      "Epoch 219/250\n",
      "1/1 - 0s - loss: 0.0487 - accuracy: 0.9825 - val_loss: 9.6467e-04 - val_accuracy: 1.0000\n",
      "Epoch 220/250\n",
      "1/1 - 0s - loss: 0.0240 - accuracy: 0.9956 - val_loss: 0.0014 - val_accuracy: 1.0000\n",
      "Epoch 221/250\n",
      "1/1 - 0s - loss: 0.0243 - accuracy: 0.9956 - val_loss: 0.0019 - val_accuracy: 1.0000\n",
      "Epoch 222/250\n",
      "1/1 - 0s - loss: 0.0215 - accuracy: 0.9956 - val_loss: 0.0024 - val_accuracy: 1.0000\n",
      "Epoch 223/250\n",
      "1/1 - 0s - loss: 0.0247 - accuracy: 0.9956 - val_loss: 0.0038 - val_accuracy: 1.0000\n",
      "Epoch 224/250\n",
      "1/1 - 0s - loss: 0.0208 - accuracy: 1.0000 - val_loss: 0.0051 - val_accuracy: 1.0000\n",
      "Epoch 225/250\n",
      "1/1 - 0s - loss: 0.0287 - accuracy: 0.9956 - val_loss: 0.0040 - val_accuracy: 1.0000\n",
      "Epoch 226/250\n",
      "1/1 - 0s - loss: 0.0368 - accuracy: 0.9956 - val_loss: 0.0026 - val_accuracy: 1.0000\n",
      "Epoch 227/250\n",
      "1/1 - 0s - loss: 0.0170 - accuracy: 0.9956 - val_loss: 0.0017 - val_accuracy: 1.0000\n",
      "Epoch 228/250\n",
      "1/1 - 1s - loss: 0.0162 - accuracy: 1.0000 - val_loss: 0.0013 - val_accuracy: 1.0000\n",
      "Epoch 229/250\n",
      "1/1 - 0s - loss: 0.0161 - accuracy: 1.0000 - val_loss: 0.0011 - val_accuracy: 1.0000\n",
      "Epoch 230/250\n",
      "1/1 - 0s - loss: 0.0380 - accuracy: 0.9912 - val_loss: 0.0010 - val_accuracy: 1.0000\n",
      "Epoch 231/250\n",
      "1/1 - 0s - loss: 0.0296 - accuracy: 0.9912 - val_loss: 0.0010 - val_accuracy: 1.0000\n",
      "Epoch 232/250\n",
      "1/1 - 0s - loss: 0.0167 - accuracy: 1.0000 - val_loss: 0.0010 - val_accuracy: 1.0000\n",
      "Epoch 233/250\n",
      "1/1 - 0s - loss: 0.0307 - accuracy: 0.9868 - val_loss: 0.0012 - val_accuracy: 1.0000\n",
      "Epoch 234/250\n",
      "1/1 - 0s - loss: 0.0187 - accuracy: 1.0000 - val_loss: 0.0015 - val_accuracy: 1.0000\n",
      "Epoch 235/250\n",
      "1/1 - 0s - loss: 0.0223 - accuracy: 0.9956 - val_loss: 0.0018 - val_accuracy: 1.0000\n",
      "Epoch 236/250\n",
      "1/1 - 0s - loss: 0.0131 - accuracy: 0.9956 - val_loss: 0.0017 - val_accuracy: 1.0000\n",
      "Epoch 237/250\n",
      "1/1 - 0s - loss: 0.0229 - accuracy: 0.9956 - val_loss: 0.0015 - val_accuracy: 1.0000\n",
      "Epoch 238/250\n",
      "1/1 - 1s - loss: 0.0227 - accuracy: 0.9956 - val_loss: 0.0010 - val_accuracy: 1.0000\n",
      "Epoch 239/250\n",
      "1/1 - 0s - loss: 0.0219 - accuracy: 0.9956 - val_loss: 6.2879e-04 - val_accuracy: 1.0000\n",
      "Epoch 240/250\n",
      "1/1 - 0s - loss: 0.0235 - accuracy: 0.9912 - val_loss: 4.6091e-04 - val_accuracy: 1.0000\n",
      "Epoch 241/250\n",
      "1/1 - 0s - loss: 0.0181 - accuracy: 0.9956 - val_loss: 4.1724e-04 - val_accuracy: 1.0000\n",
      "Epoch 242/250\n",
      "1/1 - 0s - loss: 0.0134 - accuracy: 1.0000 - val_loss: 4.2626e-04 - val_accuracy: 1.0000\n",
      "Epoch 243/250\n",
      "1/1 - 0s - loss: 0.0111 - accuracy: 1.0000 - val_loss: 4.2972e-04 - val_accuracy: 1.0000\n",
      "Epoch 244/250\n",
      "1/1 - 0s - loss: 0.0361 - accuracy: 0.9868 - val_loss: 4.6213e-04 - val_accuracy: 1.0000\n",
      "Epoch 245/250\n",
      "1/1 - 0s - loss: 0.0312 - accuracy: 0.9956 - val_loss: 6.3253e-04 - val_accuracy: 1.0000\n",
      "Epoch 246/250\n",
      "1/1 - 0s - loss: 0.0072 - accuracy: 1.0000 - val_loss: 0.0011 - val_accuracy: 1.0000\n",
      "Epoch 247/250\n",
      "1/1 - 0s - loss: 0.0095 - accuracy: 1.0000 - val_loss: 0.0017 - val_accuracy: 1.0000\n",
      "Epoch 248/250\n",
      "1/1 - 0s - loss: 0.0146 - accuracy: 0.9956 - val_loss: 0.0026 - val_accuracy: 1.0000\n",
      "Epoch 249/250\n",
      "1/1 - 0s - loss: 0.0111 - accuracy: 1.0000 - val_loss: 0.0033 - val_accuracy: 1.0000\n",
      "Epoch 250/250\n",
      "1/1 - 0s - loss: 0.0177 - accuracy: 1.0000 - val_loss: 0.0027 - val_accuracy: 1.0000\n"
     ]
    }
   ],
   "source": [
    "batch_size = 512\n",
    "epochs = 250\n",
    "verbose = 2\n",
    "\n",
    "\n",
    "history=cnn_model.fit(\n",
    "    np.array(x_train), np.array(y_train), batch_size=batch_size,\n",
    "    epochs=epochs, verbose=verbose,\n",
    "    validation_data=(np.array(x_valid),np.array(y_valid)),\n",
    ")"
   ]
  },
  {
   "cell_type": "markdown",
   "metadata": {},
   "source": [
    "Evaluate the test data\n"
   ]
  },
  {
   "cell_type": "code",
   "execution_count": 38,
   "metadata": {
    "pycharm": {
     "is_executing": true
    }
   },
   "outputs": [
    {
     "name": "stdout",
     "output_type": "stream",
     "text": [
      "test los 0.2452\n",
      "test acc 0.9438\n"
     ]
    }
   ],
   "source": [
    "scor = cnn_model.evaluate( np.array(x_test),  np.array(y_test), verbose=0)\n",
    "\n",
    "print('test los {:.4f}'.format(scor[0]))\n",
    "print('test acc {:.4f}'.format(scor[1]))"
   ]
  },
  {
   "cell_type": "markdown",
   "metadata": {},
   "source": [
    "# Save Model "
   ]
  },
  {
   "cell_type": "code",
   "execution_count": 39,
   "metadata": {},
   "outputs": [],
   "source": [
    "cnn_model.save('cnn_model.h5')  \n",
    "del cnn_model  "
   ]
  },
  {
   "cell_type": "markdown",
   "metadata": {},
   "source": [
    "# Load Model"
   ]
  },
  {
   "cell_type": "code",
   "execution_count": 40,
   "metadata": {},
   "outputs": [],
   "source": [
    "cnn_model = load_model('cnn_model.h5')"
   ]
  },
  {
   "cell_type": "markdown",
   "metadata": {},
   "source": [
    "# Result Visualization "
   ]
  },
  {
   "cell_type": "code",
   "execution_count": 41,
   "metadata": {
    "pycharm": {
     "is_executing": true
    }
   },
   "outputs": [
    {
     "name": "stdout",
     "output_type": "stream",
     "text": [
      "dict_keys(['loss', 'accuracy', 'val_loss', 'val_accuracy'])\n"
     ]
    },
    {
     "data": {
      "image/png": "[encoded data removed]",
      "text/plain": [
       "<Figure size 432x288 with 1 Axes>"
      ]
     },
     "metadata": {
      "needs_background": "light"
     },
     "output_type": "display_data"
    },
    {
     "data": {
      "image/png": "[encoded data removed]",
      "text/plain": [
       "<Figure size 432x288 with 1 Axes>"
      ]
     },
     "metadata": {
      "needs_background": "light"
     },
     "output_type": "display_data"
    }
   ],
   "source": [
    "# list all data in history\n",
    "print(history.history.keys())\n",
    "# summarize history for accuracy\n",
    "plt.plot(history.history['accuracy'])\n",
    "plt.plot(history.history['val_accuracy'])\n",
    "plt.title('model accuracy')\n",
    "plt.ylabel('accuracy')\n",
    "plt.xlabel('epoch')\n",
    "plt.legend(['train', 'test'], loc='upper left')\n",
    "plt.show()\n",
    "# summarize history for loss\n",
    "plt.plot(history.history['loss'])\n",
    "plt.plot(history.history['val_loss'])\n",
    "plt.title('model loss')\n",
    "plt.ylabel('loss')\n",
    "plt.xlabel('epoch')\n",
    "plt.legend(['train', 'test'], loc='upper left')\n",
    "plt.show()"
   ]
  },
  {
   "cell_type": "markdown",
   "metadata": {},
   "source": [
    "# Confusion Matrix"
   ]
  },
  {
   "cell_type": "code",
   "execution_count": 47,
   "metadata": {
    "pycharm": {
     "is_executing": true
    }
   },
   "outputs": [
    {
     "name": "stdout",
     "output_type": "stream",
     "text": [
      "(160, 112, 92, 1)\n",
      "accuracy : \n",
      "0.94375\n",
      "Confusion matrix, without normalization\n",
      "[[8 0 0 0 0 0 0 0 0 0 0 0 0 0 0 0 0 0 0 0]\n",
      " [0 8 0 0 0 0 0 0 0 0 0 0 0 0 0 0 0 0 0 0]\n",
      " [0 0 8 0 0 0 0 0 0 0 0 0 0 0 0 0 0 0 0 0]\n",
      " [0 0 1 7 0 0 0 0 0 0 0 0 0 0 0 0 0 0 0 0]\n",
      " [0 0 0 0 6 0 0 0 0 0 0 0 0 0 0 0 0 2 0 0]\n",
      " [0 0 0 0 0 8 0 0 0 0 0 0 0 0 0 0 0 0 0 0]\n",
      " [0 0 0 0 0 0 8 0 0 0 0 0 0 0 0 0 0 0 0 0]\n",
      " [0 0 0 0 0 0 0 8 0 0 0 0 0 0 0 0 0 0 0 0]\n",
      " [0 0 0 0 0 0 0 0 8 0 0 0 0 0 0 0 0 0 0 0]\n",
      " [0 0 0 0 0 0 0 2 0 6 0 0 0 0 0 0 0 0 0 0]\n",
      " [0 0 0 0 0 0 0 0 0 0 8 0 0 0 0 0 0 0 0 0]\n",
      " [0 0 0 0 0 0 0 0 0 0 0 8 0 0 0 0 0 0 0 0]\n",
      " [0 0 0 0 0 0 0 0 0 0 0 0 8 0 0 0 0 0 0 0]\n",
      " [0 0 0 0 0 0 0 0 0 0 0 0 0 8 0 0 0 0 0 0]\n",
      " [0 0 0 0 0 0 0 0 0 0 0 0 0 0 8 0 0 0 0 0]\n",
      " [2 0 0 0 0 0 0 0 0 0 0 0 0 0 0 6 0 0 0 0]\n",
      " [0 0 0 0 0 0 0 0 0 0 0 0 0 0 0 0 8 0 0 0]\n",
      " [0 0 0 0 0 0 0 0 0 0 0 0 0 0 0 0 0 8 0 0]\n",
      " [0 0 0 0 0 0 0 1 0 0 1 0 0 0 0 0 0 0 6 0]\n",
      " [0 0 0 0 0 0 0 0 0 0 0 0 0 0 0 0 0 0 0 8]]\n",
      "Confusion matrix, without normalization\n"
     ]
    },
    {
     "data": {
      "image/png": "[encoded data removed]",
      "text/plain": [
       "<Figure size 432x288 with 2 Axes>"
      ]
     },
     "metadata": {
      "needs_background": "light"
     },
     "output_type": "display_data"
    },
    {
     "name": "stdout",
     "output_type": "stream",
     "text": [
      "Confusion matrix, without normalization\n"
     ]
    },
    {
     "data": {
      "image/png": "[encoded data removed]",
      "text/plain": [
       "<Figure size 432x288 with 2 Axes>"
      ]
     },
     "metadata": {
      "needs_background": "light"
     },
     "output_type": "display_data"
    },
    {
     "name": "stdout",
     "output_type": "stream",
     "text": [
      "Confusion matrix:\n",
      "[[8 0 0 0 0 0 0 0 0 0 0 0 0 0 0 0 0 0 0 0]\n",
      " [0 8 0 0 0 0 0 0 0 0 0 0 0 0 0 0 0 0 0 0]\n",
      " [0 0 8 0 0 0 0 0 0 0 0 0 0 0 0 0 0 0 0 0]\n",
      " [0 0 1 7 0 0 0 0 0 0 0 0 0 0 0 0 0 0 0 0]\n",
      " [0 0 0 0 6 0 0 0 0 0 0 0 0 0 0 0 0 2 0 0]\n",
      " [0 0 0 0 0 8 0 0 0 0 0 0 0 0 0 0 0 0 0 0]\n",
      " [0 0 0 0 0 0 8 0 0 0 0 0 0 0 0 0 0 0 0 0]\n",
      " [0 0 0 0 0 0 0 8 0 0 0 0 0 0 0 0 0 0 0 0]\n",
      " [0 0 0 0 0 0 0 0 8 0 0 0 0 0 0 0 0 0 0 0]\n",
      " [0 0 0 0 0 0 0 2 0 6 0 0 0 0 0 0 0 0 0 0]\n",
      " [0 0 0 0 0 0 0 0 0 0 8 0 0 0 0 0 0 0 0 0]\n",
      " [0 0 0 0 0 0 0 0 0 0 0 8 0 0 0 0 0 0 0 0]\n",
      " [0 0 0 0 0 0 0 0 0 0 0 0 8 0 0 0 0 0 0 0]\n",
      " [0 0 0 0 0 0 0 0 0 0 0 0 0 8 0 0 0 0 0 0]\n",
      " [0 0 0 0 0 0 0 0 0 0 0 0 0 0 8 0 0 0 0 0]\n",
      " [2 0 0 0 0 0 0 0 0 0 0 0 0 0 0 6 0 0 0 0]\n",
      " [0 0 0 0 0 0 0 0 0 0 0 0 0 0 0 0 8 0 0 0]\n",
      " [0 0 0 0 0 0 0 0 0 0 0 0 0 0 0 0 0 8 0 0]\n",
      " [0 0 0 0 0 0 0 1 0 0 1 0 0 0 0 0 0 0 6 0]\n",
      " [0 0 0 0 0 0 0 0 0 0 0 0 0 0 0 0 0 0 0 8]]\n",
      "              precision    recall  f1-score   support\n",
      "\n",
      "           0       0.80      1.00      0.89         8\n",
      "           1       1.00      1.00      1.00         8\n",
      "           2       0.89      1.00      0.94         8\n",
      "           3       1.00      0.88      0.93         8\n",
      "           4       1.00      0.75      0.86         8\n",
      "           5       1.00      1.00      1.00         8\n",
      "           6       1.00      1.00      1.00         8\n",
      "           7       0.73      1.00      0.84         8\n",
      "           8       1.00      1.00      1.00         8\n",
      "           9       1.00      0.75      0.86         8\n",
      "          10       0.89      1.00      0.94         8\n",
      "          11       1.00      1.00      1.00         8\n",
      "          12       1.00      1.00      1.00         8\n",
      "          13       1.00      1.00      1.00         8\n",
      "          14       1.00      1.00      1.00         8\n",
      "          15       1.00      0.75      0.86         8\n",
      "          16       1.00      1.00      1.00         8\n",
      "          17       0.80      1.00      0.89         8\n",
      "          18       1.00      0.75      0.86         8\n",
      "          19       1.00      1.00      1.00         8\n",
      "\n",
      "    accuracy                           0.94       160\n",
      "   macro avg       0.96      0.94      0.94       160\n",
      "weighted avg       0.96      0.94      0.94       160\n",
      "\n"
     ]
    }
   ],
   "source": [
    "predicted =np.array( cnn_model.predict(x_test))\n",
    "#print(predicted)\n",
    "#print(y_test)\n",
    "ynew = cnn_model.predict_classes(x_test)\n",
    "\n",
    "\n",
    "Acc=accuracy_score(y_test, ynew)\n",
    "print(\"accuracy : \")\n",
    "print(Acc)\n",
    "#/tn, fp, fn, tp = confusion_matrix(np.array(y_test), ynew).ravel()\n",
    "cnf_matrix=confusion_matrix(np.array(y_test), ynew)\n",
    "\n",
    "y_test1 = np_utils.to_categorical(y_test, 20)\n",
    "\n",
    "\n",
    "\n",
    "def plot_confusion_matrix(cm, classes,\n",
    "                          normalize=False,\n",
    "                          title='Confusion matrix',\n",
    "                          cmap=plt.cm.Blues):\n",
    "    \"\"\"\n",
    "    This function prints and plots the confusion matrix.\n",
    "    Normalization can be applied by setting `normalize=True`.\n",
    "    \"\"\"\n",
    "    if normalize:\n",
    "        cm = cm.astype('float') / cm.sum(axis=1)[:, np.newaxis]\n",
    "        #print(\"Normalized confusion matrix\")\n",
    "    else:\n",
    "        print('Confusion matrix, without normalization')\n",
    "\n",
    "    #print(cm)\n",
    "    plt.imshow(cm, interpolation='nearest', cmap=cmap)\n",
    "    plt.title(title)\n",
    "    plt.colorbar()\n",
    "    tick_marks = np.arange(len(classes))\n",
    "    plt.xticks(tick_marks, classes, rotation=45)\n",
    "    plt.yticks(tick_marks, classes)\n",
    "\n",
    "    fmt = '.2f' if normalize else 'd'\n",
    "    thresh = cm.max() / 2.\n",
    "    for i, j in itertools.product(range(cm.shape[0]), range(cm.shape[1])):\n",
    "        plt.text(j, i, format(cm[i, j], fmt),\n",
    "                 horizontalalignment=\"center\",\n",
    "                 color=\"white\" if cm[i, j] > thresh else \"black\")\n",
    "\n",
    "    plt.tight_layout()\n",
    "    plt.ylabel('True label')\n",
    "    plt.xlabel('Predicted label')\n",
    "    plt.show()\n",
    "\n",
    "\n",
    "print('Confusion matrix, without normalization')\n",
    "print(cnf_matrix)\n",
    "\n",
    "plt.figure()\n",
    "plot_confusion_matrix(cnf_matrix[1:10,1:10], classes=[0,1,2,3,4,5,6,7,8,9],\n",
    "                      title='Confusion matrix, without normalization')\n",
    "\n",
    "plt.figure()\n",
    "plot_confusion_matrix(cnf_matrix[11:20,11:20], classes=[10,11,12,13,14,15,16,17,18,19],\n",
    "                      title='Confusion matrix, without normalization')\n",
    "\n",
    "print(\"Confusion matrix:\\n%s\" % confusion_matrix(np.array(y_test), ynew))\n",
    "print(classification_report(np.array(y_test), ynew))"
   ]
  },
  {
   "cell_type": "code",
   "execution_count": 48,
   "metadata": {
    "pycharm": {
     "is_executing": true
    }
   },
   "outputs": [
    {
     "name": "stdout",
     "output_type": "stream",
     "text": [
      "0\n"
     ]
    },
    {
     "data": {
      "image/png": "[encoded data removed]",
      "text/plain": [
       "<Figure size 432x288 with 1 Axes>"
      ]
     },
     "metadata": {
      "needs_background": "light"
     },
     "output_type": "display_data"
    }
   ],
   "source": [
    "samplePicIndex = 0\n",
    "print(y_test[samplePicIndex])\n",
    "\n",
    "samplePic = x_test[samplePicIndex].reshape(x_test[samplePicIndex].shape[0], -1)\n",
    "plt.imshow(simplePic, cmap = \"gray\")\n",
    "\n",
    "\n",
    "samplePicInput = x_test[samplePicIndex].reshape(1, samplePic.shape[0], samplePic.shape[1], 1)"
   ]
  },
  {
   "cell_type": "code",
   "execution_count": 50,
   "metadata": {},
   "outputs": [
    {
     "data": {
      "text/plain": [
       "0"
      ]
     },
     "execution_count": 50,
     "metadata": {},
     "output_type": "execute_result"
    }
   ],
   "source": [
    "\n",
    "samplePicInput = x_test[samplePicIndex].reshape(1, samplePic.shape[0], samplePic.shape[1], 1)\n",
    "predicted =np.array(cnn_model.predict(samplePicInput))\n",
    "predicted.argmax()"
   ]
  },
  {
   "cell_type": "code",
   "execution_count": null,
   "metadata": {},
   "outputs": [],
   "source": []
  }
 ],
 "metadata": {
  "kernelspec": {
   "display_name": "Python 3",
   "language": "python",
   "name": "python3"
  },
  "language_info": {
   "codemirror_mode": {
    "name": "ipython",
    "version": 3
   },
   "file_extension": ".py",
   "mimetype": "text/x-python",
   "name": "python",
   "nbconvert_exporter": "python",
   "pygments_lexer": "ipython3",
   "version": "3.7.6"
  }
 },
 "nbformat": 4,
 "nbformat_minor": 2
}
