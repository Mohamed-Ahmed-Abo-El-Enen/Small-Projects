{
  "nbformat": 4,
  "nbformat_minor": 0,
  "metadata": {
    "colab": {
      "name": "Glove_Embedding_text_similarity_CoNLL.ipynb",
      "provenance": [],
      "collapsed_sections": []
    },
    "kernelspec": {
      "name": "python3",
      "display_name": "Python 3"
    },
    "language_info": {
      "name": "python"
    }
  },
  "cells": [
    {
      "cell_type": "code",
      "source": [
        "from google.colab import drive\n",
        "drive.mount('/content/drive')\n"
      ],
      "metadata": {
        "colab": {
          "base_uri": "https://localhost:8080/"
        },
        "id": "grYYA-c2gaIM",
        "outputId": "f51dfc93-aa04-40a3-9057-8ec902a4c919"
      },
      "execution_count": 23,
      "outputs": [
        {
          "output_type": "stream",
          "name": "stdout",
          "text": [
            "Mounted at /content/drive\n"
          ]
        }
      ]
    },
    {
      "cell_type": "code",
      "source": [
        "import numpy as np\n",
        "import tensorflow as tf\n",
        "from tensorflow import keras\n"
      ],
      "metadata": {
        "id": "jL7wo8ytnli7"
      },
      "execution_count": 1,
      "outputs": []
    },
    {
      "cell_type": "code",
      "source": [
        "def get_conll_sentences(conll_file):\n",
        "    sent = []\n",
        "    temp_sent = []\n",
        "    \n",
        "    with open(conll_file) as f:\n",
        "        conll_raw_data = f.readlines()\n",
        "    conll_raw_data = [x.strip() for x in conll_raw_data]\n",
        "\n",
        "    for line in conll_raw_data:\n",
        "        if line != '':\n",
        "            split_line = line.split()\n",
        "            if len(split_line) == 4:\n",
        "                if split_line[0] != '-DOCSTART-':\n",
        "                    temp_sent.append(split_line[0])            \n",
        "            else:\n",
        "                raise IndexError('Line split length does not equal 4.')\n",
        "        else:\n",
        "            if len(temp_sent) > 0:\n",
        "                sent.append(' '.join(temp_sent))\n",
        "                temp_sent = []\n",
        "    \n",
        "    return sent\n"
      ],
      "metadata": {
        "id": "btDptIXTn2m1"
      },
      "execution_count": 2,
      "outputs": []
    },
    {
      "cell_type": "code",
      "source": [
        "train_file = r\"/content/drive/MyDrive/Dataset/NER_Dataset/CoNLL2003/eng.train\"\n",
        "testa_file = r\"/content/drive/MyDrive/Dataset/NER_Dataset/CoNLL2003/eng.testa\"\n",
        "testb_file = r\"/content/drive/MyDrive/Dataset/NER_Dataset/CoNLL2003/eng.testb\"\n",
        "testc_file = r\"/content/drive/MyDrive/Dataset/NER_Dataset/CoNLL2003/eng.testc\"\n",
        "\n",
        "train_sentences = get_conll_sentences(train_file)\n",
        "testa_sentences = get_conll_sentences(testa_file)\n",
        "testb_sentences = get_conll_sentences(testb_file)\n",
        "testc_sentences = get_conll_sentences(testc_file)\n"
      ],
      "metadata": {
        "id": "uJUcH3Rhn-9w"
      },
      "execution_count": 3,
      "outputs": []
    },
    {
      "cell_type": "code",
      "source": [
        "from tensorflow.keras.layers import TextVectorization\n",
        "\n",
        "vectorizer = TextVectorization(max_tokens=20000, output_sequence_length=200)\n",
        "text_ds = tf.data.Dataset.from_tensor_slices(train_sentences).batch(128)\n",
        "vectorizer.adapt(text_ds)\n"
      ],
      "metadata": {
        "id": "VAJlrnmcgw4Y"
      },
      "execution_count": 4,
      "outputs": []
    },
    {
      "cell_type": "code",
      "source": [
        "vectorizer.get_vocabulary()[:5]"
      ],
      "metadata": {
        "colab": {
          "base_uri": "https://localhost:8080/"
        },
        "id": "Sgp-WpfvheG1",
        "outputId": "1ea3f2b0-e8c8-47a1-dfb0-591868f58519"
      },
      "execution_count": 5,
      "outputs": [
        {
          "output_type": "execute_result",
          "data": {
            "text/plain": [
              "['', '[UNK]', 'the', 'of', 'in']"
            ]
          },
          "metadata": {},
          "execution_count": 5
        }
      ]
    },
    {
      "cell_type": "code",
      "source": [
        "output = vectorizer([[\"the cat sat on the mat\"]])\n",
        "output.numpy()\n"
      ],
      "metadata": {
        "colab": {
          "base_uri": "https://localhost:8080/"
        },
        "id": "_t_eFLsUhioj",
        "outputId": "fb1d5d1f-9765-4b2c-b5b6-f55e3ec86544"
      },
      "execution_count": 6,
      "outputs": [
        {
          "output_type": "execute_result",
          "data": {
            "text/plain": [
              "array([[    2, 17174, 12423,     8,     2,     1,     0,     0,     0,\n",
              "            0,     0,     0,     0,     0,     0,     0,     0,     0,\n",
              "            0,     0,     0,     0,     0,     0,     0,     0,     0,\n",
              "            0,     0,     0,     0,     0,     0,     0,     0,     0,\n",
              "            0,     0,     0,     0,     0,     0,     0,     0,     0,\n",
              "            0,     0,     0,     0,     0,     0,     0,     0,     0,\n",
              "            0,     0,     0,     0,     0,     0,     0,     0,     0,\n",
              "            0,     0,     0,     0,     0,     0,     0,     0,     0,\n",
              "            0,     0,     0,     0,     0,     0,     0,     0,     0,\n",
              "            0,     0,     0,     0,     0,     0,     0,     0,     0,\n",
              "            0,     0,     0,     0,     0,     0,     0,     0,     0,\n",
              "            0,     0,     0,     0,     0,     0,     0,     0,     0,\n",
              "            0,     0,     0,     0,     0,     0,     0,     0,     0,\n",
              "            0,     0,     0,     0,     0,     0,     0,     0,     0,\n",
              "            0,     0,     0,     0,     0,     0,     0,     0,     0,\n",
              "            0,     0,     0,     0,     0,     0,     0,     0,     0,\n",
              "            0,     0,     0,     0,     0,     0,     0,     0,     0,\n",
              "            0,     0,     0,     0,     0,     0,     0,     0,     0,\n",
              "            0,     0,     0,     0,     0,     0,     0,     0,     0,\n",
              "            0,     0,     0,     0,     0,     0,     0,     0,     0,\n",
              "            0,     0,     0,     0,     0,     0,     0,     0,     0,\n",
              "            0,     0,     0,     0,     0,     0,     0,     0,     0,\n",
              "            0,     0]])"
            ]
          },
          "metadata": {},
          "execution_count": 6
        }
      ]
    },
    {
      "cell_type": "code",
      "source": [
        "voc = vectorizer.get_vocabulary()\n",
        "word_index = dict(zip(voc, range(len(voc))))\n"
      ],
      "metadata": {
        "id": "AkymTnHuhkDy"
      },
      "execution_count": 7,
      "outputs": []
    },
    {
      "cell_type": "code",
      "source": [
        "test = [\"the\", \"cat\", \"sat\", \"on\", \"the\"]\n",
        "[word_index[w] for w in test]\n"
      ],
      "metadata": {
        "colab": {
          "base_uri": "https://localhost:8080/"
        },
        "id": "eiB8VH1vhlvZ",
        "outputId": "5dd0b5ea-76f3-46b7-ada8-263f3abaec37"
      },
      "execution_count": 9,
      "outputs": [
        {
          "output_type": "execute_result",
          "data": {
            "text/plain": [
              "[2, 17174, 12423, 8, 2]"
            ]
          },
          "metadata": {},
          "execution_count": 9
        }
      ]
    },
    {
      "cell_type": "code",
      "source": [
        "!wget http://nlp.stanford.edu/data/glove.6B.zip\n",
        "!unzip -q glove.6B.zip"
      ],
      "metadata": {
        "colab": {
          "base_uri": "https://localhost:8080/"
        },
        "id": "5AmXDdWWjqYe",
        "outputId": "729a0efe-971f-4817-a1c2-f40cec787c93"
      },
      "execution_count": 10,
      "outputs": [
        {
          "output_type": "stream",
          "name": "stdout",
          "text": [
            "--2022-07-30 16:30:39--  http://nlp.stanford.edu/data/glove.6B.zip\n",
            "Resolving nlp.stanford.edu (nlp.stanford.edu)... 171.64.67.140\n",
            "Connecting to nlp.stanford.edu (nlp.stanford.edu)|171.64.67.140|:80... connected.\n",
            "HTTP request sent, awaiting response... 302 Found\n",
            "Location: https://nlp.stanford.edu/data/glove.6B.zip [following]\n",
            "--2022-07-30 16:30:39--  https://nlp.stanford.edu/data/glove.6B.zip\n",
            "Connecting to nlp.stanford.edu (nlp.stanford.edu)|171.64.67.140|:443... connected.\n",
            "HTTP request sent, awaiting response... 301 Moved Permanently\n",
            "Location: https://downloads.cs.stanford.edu/nlp/data/glove.6B.zip [following]\n",
            "--2022-07-30 16:30:40--  https://downloads.cs.stanford.edu/nlp/data/glove.6B.zip\n",
            "Resolving downloads.cs.stanford.edu (downloads.cs.stanford.edu)... 171.64.64.22\n",
            "Connecting to downloads.cs.stanford.edu (downloads.cs.stanford.edu)|171.64.64.22|:443... connected.\n",
            "HTTP request sent, awaiting response... 200 OK\n",
            "Length: 862182613 (822M) [application/zip]\n",
            "Saving to: ‘glove.6B.zip.1’\n",
            "\n",
            "glove.6B.zip.1        4%[                    ]  37.52M  8.83MB/s    eta 90s    ^C\n",
            "replace glove.6B.50d.txt? [y]es, [n]o, [A]ll, [N]one, [r]ename: "
          ]
        }
      ]
    },
    {
      "cell_type": "code",
      "source": [
        "import os\n",
        "\n",
        "path_to_glove_file = os.path.join(\n",
        "    os.path.expanduser(\"~\"), \"/content/glove.6B.100d.txt\"\n",
        ")\n",
        "\n",
        "embeddings_index = {}\n",
        "with open(path_to_glove_file) as f:\n",
        "    for line in f:\n",
        "        word, coefs = line.split(maxsplit=1)\n",
        "        coefs = np.fromstring(coefs, \"f\", sep=\" \")\n",
        "        embeddings_index[word] = coefs\n",
        "\n",
        "print(\"Found %s word vectors.\" % len(embeddings_index))\n"
      ],
      "metadata": {
        "colab": {
          "base_uri": "https://localhost:8080/"
        },
        "id": "D_cssYE4r0Xf",
        "outputId": "e1927aa3-da4d-414e-8d6c-c9030507ad74"
      },
      "execution_count": 16,
      "outputs": [
        {
          "output_type": "stream",
          "name": "stdout",
          "text": [
            "Found 400000 word vectors.\n"
          ]
        }
      ]
    },
    {
      "cell_type": "code",
      "source": [
        "num_tokens = len(voc) + 2\n",
        "embedding_dim = 100\n",
        "hits = 0\n",
        "misses = 0\n",
        "\n",
        "embedding_matrix = np.zeros((num_tokens, embedding_dim))\n",
        "for word, i in word_index.items():\n",
        "    embedding_vector = embeddings_index.get(word)\n",
        "    if embedding_vector is not None:\n",
        "        embedding_matrix[i] = embedding_vector\n",
        "        hits += 1\n",
        "    else:\n",
        "        misses += 1\n",
        "print(\"Converted %d words (%d misses)\" % (hits, misses))\n"
      ],
      "metadata": {
        "colab": {
          "base_uri": "https://localhost:8080/"
        },
        "id": "8CHGX860rzLF",
        "outputId": "308d56a8-8db6-45a3-c99a-73edb4bc10ef"
      },
      "execution_count": 17,
      "outputs": [
        {
          "output_type": "stream",
          "name": "stdout",
          "text": [
            "Converted 16901 words (3099 misses)\n"
          ]
        }
      ]
    },
    {
      "cell_type": "code",
      "source": [
        "from tensorflow.keras.layers import Embedding\n",
        "\n",
        "embedding_layer = Embedding(\n",
        "    num_tokens,\n",
        "    embedding_dim,\n",
        "    embeddings_initializer=keras.initializers.Constant(embedding_matrix),\n",
        "    trainable=False,\n",
        ")\n"
      ],
      "metadata": {
        "id": "ECle5ASKhS4M"
      },
      "execution_count": 18,
      "outputs": []
    },
    {
      "cell_type": "code",
      "source": [
        "from tensorflow.keras import layers\n",
        "\n",
        "int_sequences_input = keras.Input(shape=(None,), dtype=\"int64\")\n",
        "embedded_sequences = embedding_layer(int_sequences_input)\n",
        "vector = layers.GlobalMaxPooling1D()(embedded_sequences)\n",
        "model = keras.Model(int_sequences_input, vector)\n",
        "model.summary()\n"
      ],
      "metadata": {
        "colab": {
          "base_uri": "https://localhost:8080/"
        },
        "id": "4XFxskkO1hoF",
        "outputId": "532f5f7f-2b8e-4c03-dd51-152dc206ec4e"
      },
      "execution_count": 19,
      "outputs": [
        {
          "output_type": "stream",
          "name": "stdout",
          "text": [
            "Model: \"model_2\"\n",
            "_________________________________________________________________\n",
            " Layer (type)                Output Shape              Param #   \n",
            "=================================================================\n",
            " input_3 (InputLayer)        [(None, None)]            0         \n",
            "                                                                 \n",
            " embedding_1 (Embedding)     (None, None, 100)         2000200   \n",
            "                                                                 \n",
            " global_max_pooling1d_1 (Glo  (None, 100)              0         \n",
            " balMaxPooling1D)                                                \n",
            "                                                                 \n",
            "=================================================================\n",
            "Total params: 2,000,200\n",
            "Trainable params: 0\n",
            "Non-trainable params: 2,000,200\n",
            "_________________________________________________________________\n"
          ]
        }
      ]
    },
    {
      "cell_type": "code",
      "source": [
        "string_input = keras.Input(shape=(1,), dtype=\"string\")\n",
        "x = vectorizer(string_input)\n",
        "preds = model(x)\n",
        "end_to_end_model = keras.Model(string_input, preds)\n",
        "\n",
        "vec = end_to_end_model.predict(\n",
        "    [[\"this message is about computer graphics and 3D modeling\"]]\n",
        ")\n",
        "\n",
        "vec"
      ],
      "metadata": {
        "colab": {
          "base_uri": "https://localhost:8080/"
        },
        "id": "NrPqhxQRrxXS",
        "outputId": "f5cc63a1-c869-4cb7-8f7f-946200dba943"
      },
      "execution_count": 20,
      "outputs": [
        {
          "output_type": "execute_result",
          "data": {
            "text/plain": [
              "array([[0.66039 , 0.63888 , 1.0322  , 0.27455 , 0.76628 , 0.73879 ,\n",
              "        0.43258 , 0.48177 , 0.57747 , 0.36375 , 0.62227 , 0.49926 ,\n",
              "        0.50891 , 0.58327 , 0.90674 , 0.52753 , 0.43823 , 0.96185 ,\n",
              "        0.20282 , 0.67362 , 0.70398 , 0.13269 , 1.1202  , 0.36973 ,\n",
              "        0.44757 , 0.3022  , 0.18077 , 1.0597  , 0.16311 , 0.093723,\n",
              "        0.81497 , 1.0962  , 0.59378 , 0.58384 , 0.66365 , 0.48879 ,\n",
              "        0.46967 , 0.50765 , 0.89442 , 0.36136 , 0.      , 0.15095 ,\n",
              "        0.56338 , 0.      , 0.12398 , 0.23831 , 0.79365 , 0.087721,\n",
              "        0.43205 , 0.      , 0.6238  , 0.44283 , 0.57329 , 1.6618  ,\n",
              "        0.42358 , 0.      , 0.27182 , 0.23949 , 2.5458  , 0.81925 ,\n",
              "        0.64183 , 1.5991  , 0.      , 0.43507 , 1.1876  , 0.22765 ,\n",
              "        1.0917  , 0.77839 , 1.0585  , 1.1262  , 0.11698 , 0.71972 ,\n",
              "        0.33884 , 0.21796 , 0.74056 , 1.063   , 0.51691 , 0.52784 ,\n",
              "        0.      , 0.3587  , 1.2576  , 0.5134  , 0.      , 0.69895 ,\n",
              "        0.      , 0.452   , 0.66945 , 0.      , 0.52457 , 0.      ,\n",
              "        0.59437 , 1.128   , 0.75755 , 0.41862 , 0.15152 , 0.46742 ,\n",
              "        0.49452 , 0.      , 1.0752  , 0.83562 ]], dtype=float32)"
            ]
          },
          "metadata": {},
          "execution_count": 20
        }
      ]
    },
    {
      "cell_type": "code",
      "source": [
        "from keras.models import load_model, save_model\n",
        "\n",
        "MODEL_FILE_PATH = 'embedding_model.h5'\n",
        "save_model(model, MODEL_FILE_PATH)"
      ],
      "metadata": {
        "colab": {
          "base_uri": "https://localhost:8080/"
        },
        "id": "VG27af3dh00k",
        "outputId": "e99e0bde-1cb6-42eb-a9f0-c5406046a7f5"
      },
      "execution_count": 21,
      "outputs": [
        {
          "output_type": "stream",
          "name": "stdout",
          "text": [
            "WARNING:tensorflow:Compiled the loaded model, but the compiled metrics have yet to be built. `model.compile_metrics` will be empty until you train or evaluate the model.\n"
          ]
        }
      ]
    },
    {
      "cell_type": "code",
      "source": [
        "model = load_model(MODEL_FILE_PATH)"
      ],
      "metadata": {
        "colab": {
          "base_uri": "https://localhost:8080/"
        },
        "id": "KVDZXPGp3wHm",
        "outputId": "9fb3a256-2102-434a-cbfb-2fd697c41c8d"
      },
      "execution_count": 22,
      "outputs": [
        {
          "output_type": "stream",
          "name": "stdout",
          "text": [
            "WARNING:tensorflow:No training configuration found in the save file, so the model was *not* compiled. Compile it manually.\n"
          ]
        }
      ]
    },
    {
      "cell_type": "code",
      "source": [
        "def get_embedding(model, text_array):\n",
        "  string_input = keras.Input(shape=(1,), dtype=\"string\")\n",
        "  x = vectorizer(string_input)\n",
        "  preds = model(x)\n",
        "  end_to_end_model = keras.Model(string_input, preds)\n",
        "\n",
        "  vec = end_to_end_model.predict(text_array)\n",
        "\n",
        "  return vec"
      ],
      "metadata": {
        "id": "-YJFhfaH322_"
      },
      "execution_count": 28,
      "outputs": []
    },
    {
      "cell_type": "code",
      "source": [
        "text_array = [[\"this message is about computer graphics and 3D modeling\"]]\n",
        "emb = get_embedding(model, text_array)\n",
        "emb.shape"
      ],
      "metadata": {
        "colab": {
          "base_uri": "https://localhost:8080/"
        },
        "id": "NBLbmGwQ4QFl",
        "outputId": "9fa32d9b-399a-438f-954f-873beb224ff6"
      },
      "execution_count": 24,
      "outputs": [
        {
          "output_type": "execute_result",
          "data": {
            "text/plain": [
              "(1, 100)"
            ]
          },
          "metadata": {},
          "execution_count": 24
        }
      ]
    },
    {
      "cell_type": "code",
      "source": [
        "# !pip install swifter"
      ],
      "metadata": {
        "colab": {
          "base_uri": "https://localhost:8080/",
          "height": 1000
        },
        "id": "N2pz_LWb_lk-",
        "outputId": "6165187e-e556-4d40-ab34-13588d7a633c"
      },
      "execution_count": 26,
      "outputs": [
        {
          "output_type": "stream",
          "name": "stdout",
          "text": [
            "Looking in indexes: https://pypi.org/simple, https://us-python.pkg.dev/colab-wheels/public/simple/\n",
            "Collecting swifter\n",
            "  Downloading swifter-1.3.3.tar.gz (821 kB)\n",
            "\u001b[K     |████████████████████████████████| 821 kB 4.5 MB/s \n",
            "\u001b[?25hRequirement already satisfied: pandas>=1.0.0 in /usr/local/lib/python3.7/dist-packages (from swifter) (1.3.5)\n",
            "Collecting psutil>=5.6.6\n",
            "  Downloading psutil-5.9.1-cp37-cp37m-manylinux_2_12_x86_64.manylinux2010_x86_64.manylinux_2_17_x86_64.manylinux2014_x86_64.whl (281 kB)\n",
            "\u001b[K     |████████████████████████████████| 281 kB 52.3 MB/s \n",
            "\u001b[?25hRequirement already satisfied: dask[dataframe]>=2.10.0 in /usr/local/lib/python3.7/dist-packages (from swifter) (2.12.0)\n",
            "Requirement already satisfied: tqdm>=4.33.0 in /usr/local/lib/python3.7/dist-packages (from swifter) (4.64.0)\n",
            "Requirement already satisfied: ipywidgets>=7.0.0 in /usr/local/lib/python3.7/dist-packages (from swifter) (7.7.1)\n",
            "Requirement already satisfied: cloudpickle>=0.2.2 in /usr/local/lib/python3.7/dist-packages (from swifter) (1.3.0)\n",
            "Requirement already satisfied: parso>0.4.0 in /usr/local/lib/python3.7/dist-packages (from swifter) (0.8.3)\n",
            "Requirement already satisfied: bleach>=3.1.1 in /usr/local/lib/python3.7/dist-packages (from swifter) (5.0.1)\n",
            "Requirement already satisfied: six>=1.9.0 in /usr/local/lib/python3.7/dist-packages (from bleach>=3.1.1->swifter) (1.15.0)\n",
            "Requirement already satisfied: webencodings in /usr/local/lib/python3.7/dist-packages (from bleach>=3.1.1->swifter) (0.5.1)\n",
            "Collecting partd>=0.3.10\n",
            "  Downloading partd-1.2.0-py3-none-any.whl (19 kB)\n",
            "Requirement already satisfied: toolz>=0.7.3 in /usr/local/lib/python3.7/dist-packages (from dask[dataframe]>=2.10.0->swifter) (0.12.0)\n",
            "Requirement already satisfied: numpy>=1.13.0 in /usr/local/lib/python3.7/dist-packages (from dask[dataframe]>=2.10.0->swifter) (1.21.6)\n",
            "Collecting fsspec>=0.6.0\n",
            "  Downloading fsspec-2022.7.1-py3-none-any.whl (141 kB)\n",
            "\u001b[K     |████████████████████████████████| 141 kB 49.7 MB/s \n",
            "\u001b[?25hRequirement already satisfied: widgetsnbextension~=3.6.0 in /usr/local/lib/python3.7/dist-packages (from ipywidgets>=7.0.0->swifter) (3.6.1)\n",
            "Requirement already satisfied: ipython-genutils~=0.2.0 in /usr/local/lib/python3.7/dist-packages (from ipywidgets>=7.0.0->swifter) (0.2.0)\n",
            "Requirement already satisfied: ipython>=4.0.0 in /usr/local/lib/python3.7/dist-packages (from ipywidgets>=7.0.0->swifter) (5.5.0)\n",
            "Requirement already satisfied: ipykernel>=4.5.1 in /usr/local/lib/python3.7/dist-packages (from ipywidgets>=7.0.0->swifter) (4.10.1)\n",
            "Requirement already satisfied: traitlets>=4.3.1 in /usr/local/lib/python3.7/dist-packages (from ipywidgets>=7.0.0->swifter) (5.1.1)\n",
            "Requirement already satisfied: jupyterlab-widgets>=1.0.0 in /usr/local/lib/python3.7/dist-packages (from ipywidgets>=7.0.0->swifter) (1.1.1)\n",
            "Requirement already satisfied: jupyter-client in /usr/local/lib/python3.7/dist-packages (from ipykernel>=4.5.1->ipywidgets>=7.0.0->swifter) (5.3.5)\n",
            "Requirement already satisfied: tornado>=4.0 in /usr/local/lib/python3.7/dist-packages (from ipykernel>=4.5.1->ipywidgets>=7.0.0->swifter) (5.1.1)\n",
            "Requirement already satisfied: simplegeneric>0.8 in /usr/local/lib/python3.7/dist-packages (from ipython>=4.0.0->ipywidgets>=7.0.0->swifter) (0.8.1)\n",
            "Requirement already satisfied: pexpect in /usr/local/lib/python3.7/dist-packages (from ipython>=4.0.0->ipywidgets>=7.0.0->swifter) (4.8.0)\n",
            "Requirement already satisfied: pickleshare in /usr/local/lib/python3.7/dist-packages (from ipython>=4.0.0->ipywidgets>=7.0.0->swifter) (0.7.5)\n",
            "Requirement already satisfied: pygments in /usr/local/lib/python3.7/dist-packages (from ipython>=4.0.0->ipywidgets>=7.0.0->swifter) (2.6.1)\n",
            "Requirement already satisfied: decorator in /usr/local/lib/python3.7/dist-packages (from ipython>=4.0.0->ipywidgets>=7.0.0->swifter) (4.4.2)\n",
            "Requirement already satisfied: prompt-toolkit<2.0.0,>=1.0.4 in /usr/local/lib/python3.7/dist-packages (from ipython>=4.0.0->ipywidgets>=7.0.0->swifter) (1.0.18)\n",
            "Requirement already satisfied: setuptools>=18.5 in /usr/local/lib/python3.7/dist-packages (from ipython>=4.0.0->ipywidgets>=7.0.0->swifter) (57.4.0)\n",
            "Requirement already satisfied: python-dateutil>=2.7.3 in /usr/local/lib/python3.7/dist-packages (from pandas>=1.0.0->swifter) (2.8.2)\n",
            "Requirement already satisfied: pytz>=2017.3 in /usr/local/lib/python3.7/dist-packages (from pandas>=1.0.0->swifter) (2022.1)\n",
            "Collecting locket\n",
            "  Downloading locket-1.0.0-py2.py3-none-any.whl (4.4 kB)\n",
            "Requirement already satisfied: wcwidth in /usr/local/lib/python3.7/dist-packages (from prompt-toolkit<2.0.0,>=1.0.4->ipython>=4.0.0->ipywidgets>=7.0.0->swifter) (0.2.5)\n",
            "Requirement already satisfied: notebook>=4.4.1 in /usr/local/lib/python3.7/dist-packages (from widgetsnbextension~=3.6.0->ipywidgets>=7.0.0->swifter) (5.3.1)\n",
            "Requirement already satisfied: jupyter-core>=4.4.0 in /usr/local/lib/python3.7/dist-packages (from notebook>=4.4.1->widgetsnbextension~=3.6.0->ipywidgets>=7.0.0->swifter) (4.11.1)\n",
            "Requirement already satisfied: nbconvert in /usr/local/lib/python3.7/dist-packages (from notebook>=4.4.1->widgetsnbextension~=3.6.0->ipywidgets>=7.0.0->swifter) (5.6.1)\n",
            "Requirement already satisfied: nbformat in /usr/local/lib/python3.7/dist-packages (from notebook>=4.4.1->widgetsnbextension~=3.6.0->ipywidgets>=7.0.0->swifter) (5.4.0)\n",
            "Requirement already satisfied: jinja2 in /usr/local/lib/python3.7/dist-packages (from notebook>=4.4.1->widgetsnbextension~=3.6.0->ipywidgets>=7.0.0->swifter) (2.11.3)\n",
            "Requirement already satisfied: Send2Trash in /usr/local/lib/python3.7/dist-packages (from notebook>=4.4.1->widgetsnbextension~=3.6.0->ipywidgets>=7.0.0->swifter) (1.8.0)\n",
            "Requirement already satisfied: terminado>=0.8.1 in /usr/local/lib/python3.7/dist-packages (from notebook>=4.4.1->widgetsnbextension~=3.6.0->ipywidgets>=7.0.0->swifter) (0.13.3)\n",
            "Requirement already satisfied: pyzmq>=13 in /usr/local/lib/python3.7/dist-packages (from jupyter-client->ipykernel>=4.5.1->ipywidgets>=7.0.0->swifter) (23.2.0)\n",
            "Requirement already satisfied: ptyprocess in /usr/local/lib/python3.7/dist-packages (from terminado>=0.8.1->notebook>=4.4.1->widgetsnbextension~=3.6.0->ipywidgets>=7.0.0->swifter) (0.7.0)\n",
            "Requirement already satisfied: MarkupSafe>=0.23 in /usr/local/lib/python3.7/dist-packages (from jinja2->notebook>=4.4.1->widgetsnbextension~=3.6.0->ipywidgets>=7.0.0->swifter) (2.0.1)\n",
            "Requirement already satisfied: entrypoints>=0.2.2 in /usr/local/lib/python3.7/dist-packages (from nbconvert->notebook>=4.4.1->widgetsnbextension~=3.6.0->ipywidgets>=7.0.0->swifter) (0.4)\n",
            "Requirement already satisfied: mistune<2,>=0.8.1 in /usr/local/lib/python3.7/dist-packages (from nbconvert->notebook>=4.4.1->widgetsnbextension~=3.6.0->ipywidgets>=7.0.0->swifter) (0.8.4)\n",
            "Requirement already satisfied: pandocfilters>=1.4.1 in /usr/local/lib/python3.7/dist-packages (from nbconvert->notebook>=4.4.1->widgetsnbextension~=3.6.0->ipywidgets>=7.0.0->swifter) (1.5.0)\n",
            "Requirement already satisfied: testpath in /usr/local/lib/python3.7/dist-packages (from nbconvert->notebook>=4.4.1->widgetsnbextension~=3.6.0->ipywidgets>=7.0.0->swifter) (0.6.0)\n",
            "Requirement already satisfied: defusedxml in /usr/local/lib/python3.7/dist-packages (from nbconvert->notebook>=4.4.1->widgetsnbextension~=3.6.0->ipywidgets>=7.0.0->swifter) (0.7.1)\n",
            "Requirement already satisfied: jsonschema>=2.6 in /usr/local/lib/python3.7/dist-packages (from nbformat->notebook>=4.4.1->widgetsnbextension~=3.6.0->ipywidgets>=7.0.0->swifter) (4.3.3)\n",
            "Requirement already satisfied: fastjsonschema in /usr/local/lib/python3.7/dist-packages (from nbformat->notebook>=4.4.1->widgetsnbextension~=3.6.0->ipywidgets>=7.0.0->swifter) (2.16.1)\n",
            "Requirement already satisfied: importlib-metadata in /usr/local/lib/python3.7/dist-packages (from jsonschema>=2.6->nbformat->notebook>=4.4.1->widgetsnbextension~=3.6.0->ipywidgets>=7.0.0->swifter) (4.12.0)\n",
            "Requirement already satisfied: typing-extensions in /usr/local/lib/python3.7/dist-packages (from jsonschema>=2.6->nbformat->notebook>=4.4.1->widgetsnbextension~=3.6.0->ipywidgets>=7.0.0->swifter) (4.1.1)\n",
            "Requirement already satisfied: pyrsistent!=0.17.0,!=0.17.1,!=0.17.2,>=0.14.0 in /usr/local/lib/python3.7/dist-packages (from jsonschema>=2.6->nbformat->notebook>=4.4.1->widgetsnbextension~=3.6.0->ipywidgets>=7.0.0->swifter) (0.18.1)\n",
            "Requirement already satisfied: importlib-resources>=1.4.0 in /usr/local/lib/python3.7/dist-packages (from jsonschema>=2.6->nbformat->notebook>=4.4.1->widgetsnbextension~=3.6.0->ipywidgets>=7.0.0->swifter) (5.9.0)\n",
            "Requirement already satisfied: attrs>=17.4.0 in /usr/local/lib/python3.7/dist-packages (from jsonschema>=2.6->nbformat->notebook>=4.4.1->widgetsnbextension~=3.6.0->ipywidgets>=7.0.0->swifter) (21.4.0)\n",
            "Requirement already satisfied: zipp>=3.1.0 in /usr/local/lib/python3.7/dist-packages (from importlib-resources>=1.4.0->jsonschema>=2.6->nbformat->notebook>=4.4.1->widgetsnbextension~=3.6.0->ipywidgets>=7.0.0->swifter) (3.8.1)\n",
            "Building wheels for collected packages: swifter\n",
            "  Building wheel for swifter (setup.py) ... \u001b[?25l\u001b[?25hdone\n",
            "  Created wheel for swifter: filename=swifter-1.3.3-py3-none-any.whl size=16253 sha256=7cd25fba0f1eb59cf80a7262bfa605487bf6f6fb60c102b33c1dffda36f106ef\n",
            "  Stored in directory: /root/.cache/pip/wheels/64/bf/da/da0022edab5fd84114858a95e4f32f2fca0d5b7d758905f594\n",
            "Successfully built swifter\n",
            "Installing collected packages: locket, partd, fsspec, psutil, swifter\n",
            "  Attempting uninstall: psutil\n",
            "    Found existing installation: psutil 5.4.8\n",
            "    Uninstalling psutil-5.4.8:\n",
            "      Successfully uninstalled psutil-5.4.8\n",
            "Successfully installed fsspec-2022.7.1 locket-1.0.0 partd-1.2.0 psutil-5.9.1 swifter-1.3.3\n"
          ]
        },
        {
          "output_type": "display_data",
          "data": {
            "application/vnd.colab-display-data+json": {
              "pip_warning": {
                "packages": [
                  "psutil"
                ]
              }
            }
          },
          "metadata": {}
        }
      ]
    },
    {
      "cell_type": "code",
      "source": [
        "import pandas as pd\n",
        "\n",
        "df = pd.DataFrame(data=train_sentences, columns=[\"text\"])"
      ],
      "metadata": {
        "id": "d2b7eaRo_ZjW"
      },
      "execution_count": 35,
      "outputs": []
    },
    {
      "cell_type": "code",
      "source": [
        "import swifter\n",
        "\n",
        "map_embeddings = get_embedding(model, df[\"text\"].values)\n",
        "df_embs = pd.DataFrame(data=map_embeddings, columns=[str(x) for x in range(map_embeddings.shape[1])])\n",
        "\n",
        "print(df_embs.shape)"
      ],
      "metadata": {
        "colab": {
          "base_uri": "https://localhost:8080/"
        },
        "id": "qnKFbyiE4j0n",
        "outputId": "1cbb1229-86e2-4650-81f0-12aa0feae181"
      },
      "execution_count": 49,
      "outputs": [
        {
          "output_type": "stream",
          "name": "stdout",
          "text": [
            "(14041, 100)\n"
          ]
        }
      ]
    },
    {
      "cell_type": "code",
      "source": [
        "df_embs"
      ],
      "metadata": {
        "colab": {
          "base_uri": "https://localhost:8080/",
          "height": 488
        },
        "id": "yo_fbskX_rRg",
        "outputId": "9bba28c0-b523-4f9f-ff4a-2dcca4d4cdeb"
      },
      "execution_count": 50,
      "outputs": [
        {
          "output_type": "execute_result",
          "data": {
            "text/plain": [
              "              0        1        2        3         4         5         6  \\\n",
              "0      0.507190  0.70729  1.25610  0.83070  0.066019  0.511360  0.056818   \n",
              "1      0.000000  0.30836  0.00000  0.00000  0.283460  0.149200  0.312730   \n",
              "2      0.000000  0.00000  0.44020  0.39898  0.241560  0.000000  0.000000   \n",
              "3      0.767080  0.80871  1.35920  0.67101  0.584430  1.102500  0.581390   \n",
              "4      0.674060  1.24720  0.96268  0.89124  0.675720  0.434460  0.736300   \n",
              "...         ...      ...      ...      ...       ...       ...       ...   \n",
              "14036  0.018958  0.00000  0.51960  0.10313  0.580450  0.023816  0.053620   \n",
              "14037  0.000000  0.32739  0.50195  0.00000  0.441100  0.335990  0.983770   \n",
              "14038  0.000000  0.64632  0.33147  0.36579  0.229220  0.300610  1.109200   \n",
              "14039  0.000000  0.37234  0.50195  0.00000  0.504970  0.355300  0.983770   \n",
              "14040  0.025206  0.64632  0.14796  0.36579  0.471140  0.337740  1.109200   \n",
              "\n",
              "             7        8        9  ...       90       91       92        93  \\\n",
              "0      0.61049  0.79658  0.39258  ...  0.30297  0.46625  0.53040  1.124000   \n",
              "1      0.00000  0.00000  0.00000  ...  0.26925  0.13370  0.52366  1.200500   \n",
              "2      0.47325  0.68013  0.00000  ...  0.43749  0.00000  0.00000  0.083909   \n",
              "3      1.58110  0.94021  0.47500  ...  1.06230  0.43911  0.66408  1.141500   \n",
              "4      1.01210  0.75047  0.50189  ...  1.08640  0.94463  0.82345  1.174500   \n",
              "...        ...      ...      ...  ...      ...      ...      ...       ...   \n",
              "14036  0.75174  0.00000  0.00000  ...  0.74710  0.11358  0.00000  0.870430   \n",
              "14037  0.66527  0.00000  0.52767  ...  0.00000  0.29341  0.00000  1.034000   \n",
              "14038  0.64415  0.00000  0.27455  ...  0.00000  0.77057  0.23832  1.122800   \n",
              "14039  0.80128  0.00000  0.52767  ...  0.00000  0.24300  0.00000  1.034000   \n",
              "14040  0.63267  0.00000  0.00000  ...  0.00000  0.77057  0.44270  0.981520   \n",
              "\n",
              "             94       95       96       97        98       99  \n",
              "0      0.096275  0.55114  0.67108  0.76333  1.007700  0.55767  \n",
              "1      0.161140  0.00000  0.17408  1.09500  0.076023  0.00000  \n",
              "2      0.000000  0.95382  0.26317  0.13556  0.702810  0.43946  \n",
              "3      0.551160  0.83568  0.38815  0.65996  1.381600  1.08580  \n",
              "4      0.734190  0.85880  0.38815  0.65996  1.381600  1.17340  \n",
              "...         ...      ...      ...      ...       ...      ...  \n",
              "14036  0.000000  0.77438  0.17787  0.11834  1.381600  0.18084  \n",
              "14037  0.000000  0.13273  0.51041  0.49872  0.769360  0.00000  \n",
              "14038  0.000000  0.00000  0.29427  1.11740  0.951300  0.00000  \n",
              "14039  0.000000  0.14797  0.51041  0.49872  0.769360  0.00000  \n",
              "14040  0.000000  0.30213  0.32299  0.83112  0.724580  0.00000  \n",
              "\n",
              "[14041 rows x 100 columns]"
            ],
            "text/html": [
              "\n",
              "  <div id=\"df-ac3ec087-c5bd-46f8-a089-f86cb939abc1\">\n",
              "    <div class=\"colab-df-container\">\n",
              "      <div>\n",
              "<style scoped>\n",
              "    .dataframe tbody tr th:only-of-type {\n",
              "        vertical-align: middle;\n",
              "    }\n",
              "\n",
              "    .dataframe tbody tr th {\n",
              "        vertical-align: top;\n",
              "    }\n",
              "\n",
              "    .dataframe thead th {\n",
              "        text-align: right;\n",
              "    }\n",
              "</style>\n",
              "<table border=\"1\" class=\"dataframe\">\n",
              "  <thead>\n",
              "    <tr style=\"text-align: right;\">\n",
              "      <th></th>\n",
              "      <th>0</th>\n",
              "      <th>1</th>\n",
              "      <th>2</th>\n",
              "      <th>3</th>\n",
              "      <th>4</th>\n",
              "      <th>5</th>\n",
              "      <th>6</th>\n",
              "      <th>7</th>\n",
              "      <th>8</th>\n",
              "      <th>9</th>\n",
              "      <th>...</th>\n",
              "      <th>90</th>\n",
              "      <th>91</th>\n",
              "      <th>92</th>\n",
              "      <th>93</th>\n",
              "      <th>94</th>\n",
              "      <th>95</th>\n",
              "      <th>96</th>\n",
              "      <th>97</th>\n",
              "      <th>98</th>\n",
              "      <th>99</th>\n",
              "    </tr>\n",
              "  </thead>\n",
              "  <tbody>\n",
              "    <tr>\n",
              "      <th>0</th>\n",
              "      <td>0.507190</td>\n",
              "      <td>0.70729</td>\n",
              "      <td>1.25610</td>\n",
              "      <td>0.83070</td>\n",
              "      <td>0.066019</td>\n",
              "      <td>0.511360</td>\n",
              "      <td>0.056818</td>\n",
              "      <td>0.61049</td>\n",
              "      <td>0.79658</td>\n",
              "      <td>0.39258</td>\n",
              "      <td>...</td>\n",
              "      <td>0.30297</td>\n",
              "      <td>0.46625</td>\n",
              "      <td>0.53040</td>\n",
              "      <td>1.124000</td>\n",
              "      <td>0.096275</td>\n",
              "      <td>0.55114</td>\n",
              "      <td>0.67108</td>\n",
              "      <td>0.76333</td>\n",
              "      <td>1.007700</td>\n",
              "      <td>0.55767</td>\n",
              "    </tr>\n",
              "    <tr>\n",
              "      <th>1</th>\n",
              "      <td>0.000000</td>\n",
              "      <td>0.30836</td>\n",
              "      <td>0.00000</td>\n",
              "      <td>0.00000</td>\n",
              "      <td>0.283460</td>\n",
              "      <td>0.149200</td>\n",
              "      <td>0.312730</td>\n",
              "      <td>0.00000</td>\n",
              "      <td>0.00000</td>\n",
              "      <td>0.00000</td>\n",
              "      <td>...</td>\n",
              "      <td>0.26925</td>\n",
              "      <td>0.13370</td>\n",
              "      <td>0.52366</td>\n",
              "      <td>1.200500</td>\n",
              "      <td>0.161140</td>\n",
              "      <td>0.00000</td>\n",
              "      <td>0.17408</td>\n",
              "      <td>1.09500</td>\n",
              "      <td>0.076023</td>\n",
              "      <td>0.00000</td>\n",
              "    </tr>\n",
              "    <tr>\n",
              "      <th>2</th>\n",
              "      <td>0.000000</td>\n",
              "      <td>0.00000</td>\n",
              "      <td>0.44020</td>\n",
              "      <td>0.39898</td>\n",
              "      <td>0.241560</td>\n",
              "      <td>0.000000</td>\n",
              "      <td>0.000000</td>\n",
              "      <td>0.47325</td>\n",
              "      <td>0.68013</td>\n",
              "      <td>0.00000</td>\n",
              "      <td>...</td>\n",
              "      <td>0.43749</td>\n",
              "      <td>0.00000</td>\n",
              "      <td>0.00000</td>\n",
              "      <td>0.083909</td>\n",
              "      <td>0.000000</td>\n",
              "      <td>0.95382</td>\n",
              "      <td>0.26317</td>\n",
              "      <td>0.13556</td>\n",
              "      <td>0.702810</td>\n",
              "      <td>0.43946</td>\n",
              "    </tr>\n",
              "    <tr>\n",
              "      <th>3</th>\n",
              "      <td>0.767080</td>\n",
              "      <td>0.80871</td>\n",
              "      <td>1.35920</td>\n",
              "      <td>0.67101</td>\n",
              "      <td>0.584430</td>\n",
              "      <td>1.102500</td>\n",
              "      <td>0.581390</td>\n",
              "      <td>1.58110</td>\n",
              "      <td>0.94021</td>\n",
              "      <td>0.47500</td>\n",
              "      <td>...</td>\n",
              "      <td>1.06230</td>\n",
              "      <td>0.43911</td>\n",
              "      <td>0.66408</td>\n",
              "      <td>1.141500</td>\n",
              "      <td>0.551160</td>\n",
              "      <td>0.83568</td>\n",
              "      <td>0.38815</td>\n",
              "      <td>0.65996</td>\n",
              "      <td>1.381600</td>\n",
              "      <td>1.08580</td>\n",
              "    </tr>\n",
              "    <tr>\n",
              "      <th>4</th>\n",
              "      <td>0.674060</td>\n",
              "      <td>1.24720</td>\n",
              "      <td>0.96268</td>\n",
              "      <td>0.89124</td>\n",
              "      <td>0.675720</td>\n",
              "      <td>0.434460</td>\n",
              "      <td>0.736300</td>\n",
              "      <td>1.01210</td>\n",
              "      <td>0.75047</td>\n",
              "      <td>0.50189</td>\n",
              "      <td>...</td>\n",
              "      <td>1.08640</td>\n",
              "      <td>0.94463</td>\n",
              "      <td>0.82345</td>\n",
              "      <td>1.174500</td>\n",
              "      <td>0.734190</td>\n",
              "      <td>0.85880</td>\n",
              "      <td>0.38815</td>\n",
              "      <td>0.65996</td>\n",
              "      <td>1.381600</td>\n",
              "      <td>1.17340</td>\n",
              "    </tr>\n",
              "    <tr>\n",
              "      <th>...</th>\n",
              "      <td>...</td>\n",
              "      <td>...</td>\n",
              "      <td>...</td>\n",
              "      <td>...</td>\n",
              "      <td>...</td>\n",
              "      <td>...</td>\n",
              "      <td>...</td>\n",
              "      <td>...</td>\n",
              "      <td>...</td>\n",
              "      <td>...</td>\n",
              "      <td>...</td>\n",
              "      <td>...</td>\n",
              "      <td>...</td>\n",
              "      <td>...</td>\n",
              "      <td>...</td>\n",
              "      <td>...</td>\n",
              "      <td>...</td>\n",
              "      <td>...</td>\n",
              "      <td>...</td>\n",
              "      <td>...</td>\n",
              "      <td>...</td>\n",
              "    </tr>\n",
              "    <tr>\n",
              "      <th>14036</th>\n",
              "      <td>0.018958</td>\n",
              "      <td>0.00000</td>\n",
              "      <td>0.51960</td>\n",
              "      <td>0.10313</td>\n",
              "      <td>0.580450</td>\n",
              "      <td>0.023816</td>\n",
              "      <td>0.053620</td>\n",
              "      <td>0.75174</td>\n",
              "      <td>0.00000</td>\n",
              "      <td>0.00000</td>\n",
              "      <td>...</td>\n",
              "      <td>0.74710</td>\n",
              "      <td>0.11358</td>\n",
              "      <td>0.00000</td>\n",
              "      <td>0.870430</td>\n",
              "      <td>0.000000</td>\n",
              "      <td>0.77438</td>\n",
              "      <td>0.17787</td>\n",
              "      <td>0.11834</td>\n",
              "      <td>1.381600</td>\n",
              "      <td>0.18084</td>\n",
              "    </tr>\n",
              "    <tr>\n",
              "      <th>14037</th>\n",
              "      <td>0.000000</td>\n",
              "      <td>0.32739</td>\n",
              "      <td>0.50195</td>\n",
              "      <td>0.00000</td>\n",
              "      <td>0.441100</td>\n",
              "      <td>0.335990</td>\n",
              "      <td>0.983770</td>\n",
              "      <td>0.66527</td>\n",
              "      <td>0.00000</td>\n",
              "      <td>0.52767</td>\n",
              "      <td>...</td>\n",
              "      <td>0.00000</td>\n",
              "      <td>0.29341</td>\n",
              "      <td>0.00000</td>\n",
              "      <td>1.034000</td>\n",
              "      <td>0.000000</td>\n",
              "      <td>0.13273</td>\n",
              "      <td>0.51041</td>\n",
              "      <td>0.49872</td>\n",
              "      <td>0.769360</td>\n",
              "      <td>0.00000</td>\n",
              "    </tr>\n",
              "    <tr>\n",
              "      <th>14038</th>\n",
              "      <td>0.000000</td>\n",
              "      <td>0.64632</td>\n",
              "      <td>0.33147</td>\n",
              "      <td>0.36579</td>\n",
              "      <td>0.229220</td>\n",
              "      <td>0.300610</td>\n",
              "      <td>1.109200</td>\n",
              "      <td>0.64415</td>\n",
              "      <td>0.00000</td>\n",
              "      <td>0.27455</td>\n",
              "      <td>...</td>\n",
              "      <td>0.00000</td>\n",
              "      <td>0.77057</td>\n",
              "      <td>0.23832</td>\n",
              "      <td>1.122800</td>\n",
              "      <td>0.000000</td>\n",
              "      <td>0.00000</td>\n",
              "      <td>0.29427</td>\n",
              "      <td>1.11740</td>\n",
              "      <td>0.951300</td>\n",
              "      <td>0.00000</td>\n",
              "    </tr>\n",
              "    <tr>\n",
              "      <th>14039</th>\n",
              "      <td>0.000000</td>\n",
              "      <td>0.37234</td>\n",
              "      <td>0.50195</td>\n",
              "      <td>0.00000</td>\n",
              "      <td>0.504970</td>\n",
              "      <td>0.355300</td>\n",
              "      <td>0.983770</td>\n",
              "      <td>0.80128</td>\n",
              "      <td>0.00000</td>\n",
              "      <td>0.52767</td>\n",
              "      <td>...</td>\n",
              "      <td>0.00000</td>\n",
              "      <td>0.24300</td>\n",
              "      <td>0.00000</td>\n",
              "      <td>1.034000</td>\n",
              "      <td>0.000000</td>\n",
              "      <td>0.14797</td>\n",
              "      <td>0.51041</td>\n",
              "      <td>0.49872</td>\n",
              "      <td>0.769360</td>\n",
              "      <td>0.00000</td>\n",
              "    </tr>\n",
              "    <tr>\n",
              "      <th>14040</th>\n",
              "      <td>0.025206</td>\n",
              "      <td>0.64632</td>\n",
              "      <td>0.14796</td>\n",
              "      <td>0.36579</td>\n",
              "      <td>0.471140</td>\n",
              "      <td>0.337740</td>\n",
              "      <td>1.109200</td>\n",
              "      <td>0.63267</td>\n",
              "      <td>0.00000</td>\n",
              "      <td>0.00000</td>\n",
              "      <td>...</td>\n",
              "      <td>0.00000</td>\n",
              "      <td>0.77057</td>\n",
              "      <td>0.44270</td>\n",
              "      <td>0.981520</td>\n",
              "      <td>0.000000</td>\n",
              "      <td>0.30213</td>\n",
              "      <td>0.32299</td>\n",
              "      <td>0.83112</td>\n",
              "      <td>0.724580</td>\n",
              "      <td>0.00000</td>\n",
              "    </tr>\n",
              "  </tbody>\n",
              "</table>\n",
              "<p>14041 rows × 100 columns</p>\n",
              "</div>\n",
              "      <button class=\"colab-df-convert\" onclick=\"convertToInteractive('df-ac3ec087-c5bd-46f8-a089-f86cb939abc1')\"\n",
              "              title=\"Convert this dataframe to an interactive table.\"\n",
              "              style=\"display:none;\">\n",
              "        \n",
              "  <svg xmlns=\"http://www.w3.org/2000/svg\" height=\"24px\"viewBox=\"0 0 24 24\"\n",
              "       width=\"24px\">\n",
              "    <path d=\"M0 0h24v24H0V0z\" fill=\"none\"/>\n",
              "    <path d=\"M18.56 5.44l.94 2.06.94-2.06 2.06-.94-2.06-.94-.94-2.06-.94 2.06-2.06.94zm-11 1L8.5 8.5l.94-2.06 2.06-.94-2.06-.94L8.5 2.5l-.94 2.06-2.06.94zm10 10l.94 2.06.94-2.06 2.06-.94-2.06-.94-.94-2.06-.94 2.06-2.06.94z\"/><path d=\"M17.41 7.96l-1.37-1.37c-.4-.4-.92-.59-1.43-.59-.52 0-1.04.2-1.43.59L10.3 9.45l-7.72 7.72c-.78.78-.78 2.05 0 2.83L4 21.41c.39.39.9.59 1.41.59.51 0 1.02-.2 1.41-.59l7.78-7.78 2.81-2.81c.8-.78.8-2.07 0-2.86zM5.41 20L4 18.59l7.72-7.72 1.47 1.35L5.41 20z\"/>\n",
              "  </svg>\n",
              "      </button>\n",
              "      \n",
              "  <style>\n",
              "    .colab-df-container {\n",
              "      display:flex;\n",
              "      flex-wrap:wrap;\n",
              "      gap: 12px;\n",
              "    }\n",
              "\n",
              "    .colab-df-convert {\n",
              "      background-color: #E8F0FE;\n",
              "      border: none;\n",
              "      border-radius: 50%;\n",
              "      cursor: pointer;\n",
              "      display: none;\n",
              "      fill: #1967D2;\n",
              "      height: 32px;\n",
              "      padding: 0 0 0 0;\n",
              "      width: 32px;\n",
              "    }\n",
              "\n",
              "    .colab-df-convert:hover {\n",
              "      background-color: #E2EBFA;\n",
              "      box-shadow: 0px 1px 2px rgba(60, 64, 67, 0.3), 0px 1px 3px 1px rgba(60, 64, 67, 0.15);\n",
              "      fill: #174EA6;\n",
              "    }\n",
              "\n",
              "    [theme=dark] .colab-df-convert {\n",
              "      background-color: #3B4455;\n",
              "      fill: #D2E3FC;\n",
              "    }\n",
              "\n",
              "    [theme=dark] .colab-df-convert:hover {\n",
              "      background-color: #434B5C;\n",
              "      box-shadow: 0px 1px 3px 1px rgba(0, 0, 0, 0.15);\n",
              "      filter: drop-shadow(0px 1px 2px rgba(0, 0, 0, 0.3));\n",
              "      fill: #FFFFFF;\n",
              "    }\n",
              "  </style>\n",
              "\n",
              "      <script>\n",
              "        const buttonEl =\n",
              "          document.querySelector('#df-ac3ec087-c5bd-46f8-a089-f86cb939abc1 button.colab-df-convert');\n",
              "        buttonEl.style.display =\n",
              "          google.colab.kernel.accessAllowed ? 'block' : 'none';\n",
              "\n",
              "        async function convertToInteractive(key) {\n",
              "          const element = document.querySelector('#df-ac3ec087-c5bd-46f8-a089-f86cb939abc1');\n",
              "          const dataTable =\n",
              "            await google.colab.kernel.invokeFunction('convertToInteractive',\n",
              "                                                     [key], {});\n",
              "          if (!dataTable) return;\n",
              "\n",
              "          const docLinkHtml = 'Like what you see? Visit the ' +\n",
              "            '<a target=\"_blank\" href=https://colab.research.google.com/notebooks/data_table.ipynb>data table notebook</a>'\n",
              "            + ' to learn more about interactive tables.';\n",
              "          element.innerHTML = '';\n",
              "          dataTable['output_type'] = 'display_data';\n",
              "          await google.colab.output.renderOutput(dataTable, element);\n",
              "          const docLink = document.createElement('div');\n",
              "          docLink.innerHTML = docLinkHtml;\n",
              "          element.appendChild(docLink);\n",
              "        }\n",
              "      </script>\n",
              "    </div>\n",
              "  </div>\n",
              "  "
            ]
          },
          "metadata": {},
          "execution_count": 50
        }
      ]
    },
    {
      "cell_type": "code",
      "source": [
        "SIMILARITY_MATRIX_FILE_PATH = \"embedding_matrix.csv\"\n",
        "df_embs.to_csv(SIMILARITY_MATRIX_FILE_PATH)"
      ],
      "metadata": {
        "id": "_QJp4rgxCEJn"
      },
      "execution_count": 52,
      "outputs": []
    },
    {
      "cell_type": "code",
      "source": [
        "from sklearn.metrics.pairwise import pairwise_distances\n",
        "\n",
        "cosine_sim = 1-pairwise_distances(df_embs, metric='cosine')\n",
        "cosine_sim[:4, :4]"
      ],
      "metadata": {
        "colab": {
          "base_uri": "https://localhost:8080/"
        },
        "id": "dHc8FevVCNEV",
        "outputId": "65f3ff4a-9a49-4940-a024-3e83a206652b"
      },
      "execution_count": 53,
      "outputs": [
        {
          "output_type": "execute_result",
          "data": {
            "text/plain": [
              "array([[0.9999999 , 0.6084002 , 0.57051116, 0.9057771 ],\n",
              "       [0.6084002 , 1.        , 0.4085219 , 0.6228007 ],\n",
              "       [0.57051116, 0.4085219 , 1.        , 0.5609603 ],\n",
              "       [0.9057771 , 0.6228007 , 0.5609603 , 1.        ]], dtype=float32)"
            ]
          },
          "metadata": {},
          "execution_count": 53
        }
      ]
    },
    {
      "cell_type": "code",
      "source": [
        "def get_recommender(cosine_sim, idx, df, top_n = 5):\n",
        "    indices = pd.Series(range(len(df)), index=df.index)\n",
        "    sim_idx    = indices[idx]\n",
        "    sim_scores = list(enumerate(cosine_sim[sim_idx]))\n",
        "    sim_scores = sorted(sim_scores, key=lambda x: x[1], reverse=True)\n",
        "    sim_scores = sim_scores[1:top_n+1]\n",
        "    idx_rec    = [i[0] for i in sim_scores]\n",
        "    idx_sim    = [i[1] for i in sim_scores]\n",
        "    \n",
        "    return indices.iloc[idx_rec].index, idx_sim\n",
        "\n",
        "idx_ref = 500\n",
        "\n",
        "get_recommender(cosine_sim, idx_ref, df, top_n = 5)"
      ],
      "metadata": {
        "colab": {
          "base_uri": "https://localhost:8080/"
        },
        "id": "ionDW_z9CfKy",
        "outputId": "26f3de16-dc8d-4fbc-cd62-13b7cb24d771"
      },
      "execution_count": 54,
      "outputs": [
        {
          "output_type": "execute_result",
          "data": {
            "text/plain": [
              "(Int64Index([5061, 3724, 14020, 14028, 10419], dtype='int64'),\n",
              " [0.9302724, 0.9269957, 0.9238459, 0.92172116, 0.9140698])"
            ]
          },
          "metadata": {},
          "execution_count": 54
        }
      ]
    },
    {
      "cell_type": "code",
      "source": [
        "idx_rec, idx_sim = get_recommender(cosine_sim, idx_ref, df, top_n = 6)\n",
        "df.iloc[idx_rec]"
      ],
      "metadata": {
        "colab": {
          "base_uri": "https://localhost:8080/",
          "height": 238
        },
        "id": "mVEeu3kOCmGH",
        "outputId": "c9418c03-e30c-4d22-b480-ef42aff3a19d"
      },
      "execution_count": 55,
      "outputs": [
        {
          "output_type": "execute_result",
          "data": {
            "text/plain": [
              "                                                    text\n",
              "5061                               ( Australia ) 6-2 6-4\n",
              "3724                               ( Australia ) 7-5 6-4\n",
              "14020                                  Africa ) 66 75 76\n",
              "14028         74 , Peter O'Malley ( Australia ) 71 73 75\n",
              "10419  Guy Forget ( France ) beat Grant Stafford ( So...\n",
              "4497           278 Greg Norman ( Australia ) 70 68 69 71"
            ],
            "text/html": [
              "\n",
              "  <div id=\"df-67f6a0e9-f1c6-40af-897c-b39746af91de\">\n",
              "    <div class=\"colab-df-container\">\n",
              "      <div>\n",
              "<style scoped>\n",
              "    .dataframe tbody tr th:only-of-type {\n",
              "        vertical-align: middle;\n",
              "    }\n",
              "\n",
              "    .dataframe tbody tr th {\n",
              "        vertical-align: top;\n",
              "    }\n",
              "\n",
              "    .dataframe thead th {\n",
              "        text-align: right;\n",
              "    }\n",
              "</style>\n",
              "<table border=\"1\" class=\"dataframe\">\n",
              "  <thead>\n",
              "    <tr style=\"text-align: right;\">\n",
              "      <th></th>\n",
              "      <th>text</th>\n",
              "    </tr>\n",
              "  </thead>\n",
              "  <tbody>\n",
              "    <tr>\n",
              "      <th>5061</th>\n",
              "      <td>( Australia ) 6-2 6-4</td>\n",
              "    </tr>\n",
              "    <tr>\n",
              "      <th>3724</th>\n",
              "      <td>( Australia ) 7-5 6-4</td>\n",
              "    </tr>\n",
              "    <tr>\n",
              "      <th>14020</th>\n",
              "      <td>Africa ) 66 75 76</td>\n",
              "    </tr>\n",
              "    <tr>\n",
              "      <th>14028</th>\n",
              "      <td>74 , Peter O'Malley ( Australia ) 71 73 75</td>\n",
              "    </tr>\n",
              "    <tr>\n",
              "      <th>10419</th>\n",
              "      <td>Guy Forget ( France ) beat Grant Stafford ( So...</td>\n",
              "    </tr>\n",
              "    <tr>\n",
              "      <th>4497</th>\n",
              "      <td>278 Greg Norman ( Australia ) 70 68 69 71</td>\n",
              "    </tr>\n",
              "  </tbody>\n",
              "</table>\n",
              "</div>\n",
              "      <button class=\"colab-df-convert\" onclick=\"convertToInteractive('df-67f6a0e9-f1c6-40af-897c-b39746af91de')\"\n",
              "              title=\"Convert this dataframe to an interactive table.\"\n",
              "              style=\"display:none;\">\n",
              "        \n",
              "  <svg xmlns=\"http://www.w3.org/2000/svg\" height=\"24px\"viewBox=\"0 0 24 24\"\n",
              "       width=\"24px\">\n",
              "    <path d=\"M0 0h24v24H0V0z\" fill=\"none\"/>\n",
              "    <path d=\"M18.56 5.44l.94 2.06.94-2.06 2.06-.94-2.06-.94-.94-2.06-.94 2.06-2.06.94zm-11 1L8.5 8.5l.94-2.06 2.06-.94-2.06-.94L8.5 2.5l-.94 2.06-2.06.94zm10 10l.94 2.06.94-2.06 2.06-.94-2.06-.94-.94-2.06-.94 2.06-2.06.94z\"/><path d=\"M17.41 7.96l-1.37-1.37c-.4-.4-.92-.59-1.43-.59-.52 0-1.04.2-1.43.59L10.3 9.45l-7.72 7.72c-.78.78-.78 2.05 0 2.83L4 21.41c.39.39.9.59 1.41.59.51 0 1.02-.2 1.41-.59l7.78-7.78 2.81-2.81c.8-.78.8-2.07 0-2.86zM5.41 20L4 18.59l7.72-7.72 1.47 1.35L5.41 20z\"/>\n",
              "  </svg>\n",
              "      </button>\n",
              "      \n",
              "  <style>\n",
              "    .colab-df-container {\n",
              "      display:flex;\n",
              "      flex-wrap:wrap;\n",
              "      gap: 12px;\n",
              "    }\n",
              "\n",
              "    .colab-df-convert {\n",
              "      background-color: #E8F0FE;\n",
              "      border: none;\n",
              "      border-radius: 50%;\n",
              "      cursor: pointer;\n",
              "      display: none;\n",
              "      fill: #1967D2;\n",
              "      height: 32px;\n",
              "      padding: 0 0 0 0;\n",
              "      width: 32px;\n",
              "    }\n",
              "\n",
              "    .colab-df-convert:hover {\n",
              "      background-color: #E2EBFA;\n",
              "      box-shadow: 0px 1px 2px rgba(60, 64, 67, 0.3), 0px 1px 3px 1px rgba(60, 64, 67, 0.15);\n",
              "      fill: #174EA6;\n",
              "    }\n",
              "\n",
              "    [theme=dark] .colab-df-convert {\n",
              "      background-color: #3B4455;\n",
              "      fill: #D2E3FC;\n",
              "    }\n",
              "\n",
              "    [theme=dark] .colab-df-convert:hover {\n",
              "      background-color: #434B5C;\n",
              "      box-shadow: 0px 1px 3px 1px rgba(0, 0, 0, 0.15);\n",
              "      filter: drop-shadow(0px 1px 2px rgba(0, 0, 0, 0.3));\n",
              "      fill: #FFFFFF;\n",
              "    }\n",
              "  </style>\n",
              "\n",
              "      <script>\n",
              "        const buttonEl =\n",
              "          document.querySelector('#df-67f6a0e9-f1c6-40af-897c-b39746af91de button.colab-df-convert');\n",
              "        buttonEl.style.display =\n",
              "          google.colab.kernel.accessAllowed ? 'block' : 'none';\n",
              "\n",
              "        async function convertToInteractive(key) {\n",
              "          const element = document.querySelector('#df-67f6a0e9-f1c6-40af-897c-b39746af91de');\n",
              "          const dataTable =\n",
              "            await google.colab.kernel.invokeFunction('convertToInteractive',\n",
              "                                                     [key], {});\n",
              "          if (!dataTable) return;\n",
              "\n",
              "          const docLinkHtml = 'Like what you see? Visit the ' +\n",
              "            '<a target=\"_blank\" href=https://colab.research.google.com/notebooks/data_table.ipynb>data table notebook</a>'\n",
              "            + ' to learn more about interactive tables.';\n",
              "          element.innerHTML = '';\n",
              "          dataTable['output_type'] = 'display_data';\n",
              "          await google.colab.output.renderOutput(dataTable, element);\n",
              "          const docLink = document.createElement('div');\n",
              "          docLink.innerHTML = docLinkHtml;\n",
              "          element.appendChild(docLink);\n",
              "        }\n",
              "      </script>\n",
              "    </div>\n",
              "  </div>\n",
              "  "
            ]
          },
          "metadata": {},
          "execution_count": 55
        }
      ]
    },
    {
      "cell_type": "code",
      "source": [
        ""
      ],
      "metadata": {
        "id": "VjQBMJ84Crn4"
      },
      "execution_count": null,
      "outputs": []
    }
  ]
}