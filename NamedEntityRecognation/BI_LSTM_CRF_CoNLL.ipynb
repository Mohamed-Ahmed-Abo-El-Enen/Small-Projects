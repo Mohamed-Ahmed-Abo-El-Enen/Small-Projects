{
  "nbformat": 4,
  "nbformat_minor": 0,
  "metadata": {
    "colab": {
      "name": "BI_LSTM_CRF_CoNLL.ipynb",
      "provenance": [],
      "collapsed_sections": []
    },
    "kernelspec": {
      "name": "python3",
      "display_name": "Python 3"
    },
    "language_info": {
      "name": "python"
    },
    "accelerator": "GPU",
    "gpuClass": "standard"
  },
  "cells": [
    {
      "cell_type": "code",
      "source": [
        "from google.colab import drive\n",
        "drive.mount('/content/drive')"
      ],
      "metadata": {
        "colab": {
          "base_uri": "https://localhost:8080/"
        },
        "id": "BO5vSayoWRyH",
        "outputId": "0ac132ab-a8fd-4c9c-c8a4-012dd3a70042"
      },
      "execution_count": 1,
      "outputs": [
        {
          "output_type": "stream",
          "name": "stdout",
          "text": [
            "Mounted at /content/drive\n"
          ]
        }
      ]
    },
    {
      "cell_type": "code",
      "source": [
        "# !pip install tensorflow==1.13.1\n",
        "# !pip install keras==2.2.4"
      ],
      "metadata": {
        "id": "QPLbzNCUUfUf"
      },
      "execution_count": 1,
      "outputs": []
    },
    {
      "cell_type": "code",
      "execution_count": 12,
      "metadata": {
        "id": "gcFpC0whWJK-"
      },
      "outputs": [],
      "source": [
        "import numpy as np\n",
        "from time import time\n",
        "import matplotlib.pyplot as plt\n",
        "%matplotlib inline\n"
      ]
    },
    {
      "cell_type": "code",
      "source": [
        "def conll_sentences(conll_file):\n",
        "    sent = []\n",
        "    pos = []\n",
        "    chunk = []\n",
        "    entity = []\n",
        "    temp_sent = []\n",
        "    temp_pos = []\n",
        "    temp_chunk = []\n",
        "    temp_entity = []\n",
        "    \n",
        "    with open(conll_file) as f:\n",
        "        conll_raw_data = f.readlines()\n",
        "    conll_raw_data = [x.strip() for x in conll_raw_data]\n",
        "\n",
        "    for line in conll_raw_data:\n",
        "        if line != '':\n",
        "            split_line = line.split()\n",
        "            if len(split_line) == 4:\n",
        "                if split_line[0] != '-DOCSTART-':\n",
        "                    temp_sent.append(split_line[0])\n",
        "                    temp_pos.append(split_line[1])\n",
        "                    temp_chunk.append(split_line[2])\n",
        "                    \n",
        "                    # Rename entity values as PER, LOC, ORG, MISC, O\n",
        "                    old_ent = split_line[3]\n",
        "                    if old_ent in ('I-ORG', 'B-ORG'):\n",
        "                        new_ent = 'ORG'\n",
        "                    elif old_ent in ('I-LOC', 'B-LOC'):\n",
        "                        new_ent = 'LOC'\n",
        "                    elif old_ent in ('I-MISC', 'B-MISC'):\n",
        "                        new_ent = 'MISC'\n",
        "                    elif old_ent in ('I-PER', 'B-PER'):\n",
        "                        new_ent = 'PER'\n",
        "                    else:\n",
        "                        new_ent = 'O'\n",
        "                    temp_entity.append(new_ent)\n",
        "            else:\n",
        "                raise IndexError('Line split length does not equal 4.')\n",
        "        else:\n",
        "            if len(temp_sent) > 0:\n",
        "                assert(len(sent) == len(pos))\n",
        "                assert(len(sent) == len(chunk))\n",
        "                assert(len(sent) == len(entity))\n",
        "                sent.append(temp_sent)\n",
        "                pos.append(temp_pos)\n",
        "                chunk.append(temp_chunk)\n",
        "                entity.append(temp_entity)\n",
        "                temp_sent = []\n",
        "                temp_pos = []\n",
        "                temp_chunk = []\n",
        "                temp_entity = []\n",
        "    \n",
        "    return sent, pos, chunk, entity"
      ],
      "metadata": {
        "id": "vdMgcv6Ca2O-"
      },
      "execution_count": 13,
      "outputs": []
    },
    {
      "cell_type": "code",
      "source": [
        "train_file = r\"/content/drive/MyDrive/Dataset/NER_Dataset/CoNLL2003/eng.train\"\n",
        "testa_file = r\"/content/drive/MyDrive/Dataset/NER_Dataset/CoNLL2003/eng.testa\"\n",
        "testb_file = r\"/content/drive/MyDrive/Dataset/NER_Dataset/CoNLL2003/eng.testb\"\n",
        "testc_file = r\"/content/drive/MyDrive/Dataset/NER_Dataset/CoNLL2003/eng.testc\"\n",
        "\n",
        "train_sentence, train_pos, train_chunk, train_entity = conll_sentences(train_file)\n",
        "testa_sentence, testa_pos, testa_chunk, testa_entity = conll_sentences(testa_file)\n",
        "testb_sentence, testb_pos, testb_chunk, testb_entity = conll_sentences(testb_file)\n",
        "testc_sentence, testc_pos, testc_chunk, testc_entity = conll_sentences(testc_file)"
      ],
      "metadata": {
        "id": "bE702NXiWY3V"
      },
      "execution_count": 14,
      "outputs": []
    },
    {
      "cell_type": "code",
      "source": [
        "max_len = max([len(x) for x in train_sentence])\n",
        "max_len"
      ],
      "metadata": {
        "colab": {
          "base_uri": "https://localhost:8080/"
        },
        "id": "7DMs8uLANZ4R",
        "outputId": "5611e877-f83d-48a3-d423-c914db94cb41"
      },
      "execution_count": 15,
      "outputs": [
        {
          "output_type": "execute_result",
          "data": {
            "text/plain": [
              "113"
            ]
          },
          "metadata": {},
          "execution_count": 15
        }
      ]
    },
    {
      "cell_type": "code",
      "source": [
        "entites = []\n",
        "for line in train_entity:\n",
        "  for e in line:\n",
        "    entites.append(e)\n",
        "\n",
        "entites_set = set(entites)\n",
        "tag2idx = {t: i for i, t in enumerate(entites_set)}\n",
        "tag2idx"
      ],
      "metadata": {
        "colab": {
          "base_uri": "https://localhost:8080/"
        },
        "id": "rT93tQc4OL5g",
        "outputId": "a4e03523-7435-4964-8db4-2cf120b68160"
      },
      "execution_count": 16,
      "outputs": [
        {
          "output_type": "execute_result",
          "data": {
            "text/plain": [
              "{'O': 0, 'ORG': 1, 'LOC': 2, 'PER': 3, 'MISC': 4}"
            ]
          },
          "metadata": {},
          "execution_count": 16
        }
      ]
    },
    {
      "cell_type": "code",
      "source": [
        "combined_words = set()\n",
        "for line in train_sentence + testa_sentence + testb_sentence + testc_sentence:\n",
        "  for w in line:\n",
        "    combined_words.add(w)\n",
        "\n",
        "combined_words.add(\"ENDPAD\")\n",
        "\n",
        "word2idx = {w: i + 1 for i, w in enumerate(combined_words)}"
      ],
      "metadata": {
        "id": "dsgy_VpfbRKt"
      },
      "execution_count": 17,
      "outputs": []
    },
    {
      "cell_type": "code",
      "source": [
        "from tensorflow.keras.preprocessing.sequence import pad_sequences\n",
        "\n",
        "def get_sentence_word2idx(sentences):\n",
        "  X = [[word2idx[w] for w in s] for s in sentences]\n",
        "  X = pad_sequences(maxlen=max_len, sequences=X, padding=\"post\", value=len(word2idx)-1)\n",
        "  return X\n"
      ],
      "metadata": {
        "id": "uJFw8ImXklm6"
      },
      "execution_count": 18,
      "outputs": []
    },
    {
      "cell_type": "code",
      "source": [
        "train_sentence = get_sentence_word2idx(train_sentence)\n",
        "testa_sentence = get_sentence_word2idx(testa_sentence)\n",
        "testb_sentence = get_sentence_word2idx(testb_sentence)\n",
        "testc_sentence = get_sentence_word2idx(testc_sentence)"
      ],
      "metadata": {
        "id": "rNXIgm3xQhSN"
      },
      "execution_count": 19,
      "outputs": []
    },
    {
      "cell_type": "code",
      "source": [
        "from tensorflow.keras.utils import to_categorical\n",
        "\n",
        "def get_sentence_tag2idx(n_entites, entites):\n",
        "  y = [[tag2idx[w] for w in s] for s in entites]\n",
        "  y = pad_sequences(maxlen=max_len, sequences=y, padding=\"post\", value=tag2idx[\"O\"])\n",
        "  y = [to_categorical(i, num_classes=n_entites) for i in y]\n",
        "  return np.array(y)\n"
      ],
      "metadata": {
        "id": "Sv6OqFdDRB3O"
      },
      "execution_count": 20,
      "outputs": []
    },
    {
      "cell_type": "code",
      "source": [
        "train_entity = get_sentence_tag2idx(len(tag2idx), train_entity)\n",
        "testa_entity = get_sentence_tag2idx(len(tag2idx), testa_entity)\n",
        "testb_entity = get_sentence_tag2idx(len(tag2idx), testb_entity)\n",
        "testc_entity = get_sentence_tag2idx(len(tag2idx), testc_entity)"
      ],
      "metadata": {
        "id": "5hl3Crvzklty"
      },
      "execution_count": 21,
      "outputs": []
    },
    {
      "cell_type": "code",
      "source": [
        "max_features = len(word2idx)+1"
      ],
      "metadata": {
        "id": "ie2NMyXIR653"
      },
      "execution_count": 22,
      "outputs": []
    },
    {
      "cell_type": "code",
      "source": [
        "!pip install git+https://www.github.com/keras-team/keras-contrib.git"
      ],
      "metadata": {
        "colab": {
          "base_uri": "https://localhost:8080/"
        },
        "id": "QI1gCvWLFxZB",
        "outputId": "c1f93c5b-74b6-4120-c17a-25404c1dd4c5"
      },
      "execution_count": 23,
      "outputs": [
        {
          "output_type": "stream",
          "name": "stdout",
          "text": [
            "Looking in indexes: https://pypi.org/simple, https://us-python.pkg.dev/colab-wheels/public/simple/\n",
            "Collecting git+https://www.github.com/keras-team/keras-contrib.git\n",
            "  Cloning https://www.github.com/keras-team/keras-contrib.git to /tmp/pip-req-build-0206powd\n",
            "  Running command git clone -q https://www.github.com/keras-team/keras-contrib.git /tmp/pip-req-build-0206powd\n",
            "Requirement already satisfied: keras in /usr/local/lib/python3.7/dist-packages (from keras-contrib==2.0.8) (2.2.4)\n",
            "Requirement already satisfied: keras-applications>=1.0.6 in /usr/local/lib/python3.7/dist-packages (from keras->keras-contrib==2.0.8) (1.0.8)\n",
            "Requirement already satisfied: scipy>=0.14 in /usr/local/lib/python3.7/dist-packages (from keras->keras-contrib==2.0.8) (1.7.3)\n",
            "Requirement already satisfied: six>=1.9.0 in /usr/local/lib/python3.7/dist-packages (from keras->keras-contrib==2.0.8) (1.15.0)\n",
            "Requirement already satisfied: numpy>=1.9.1 in /usr/local/lib/python3.7/dist-packages (from keras->keras-contrib==2.0.8) (1.21.6)\n",
            "Requirement already satisfied: keras-preprocessing>=1.0.5 in /usr/local/lib/python3.7/dist-packages (from keras->keras-contrib==2.0.8) (1.1.2)\n",
            "Requirement already satisfied: pyyaml in /usr/local/lib/python3.7/dist-packages (from keras->keras-contrib==2.0.8) (3.13)\n",
            "Requirement already satisfied: h5py in /usr/local/lib/python3.7/dist-packages (from keras->keras-contrib==2.0.8) (3.1.0)\n",
            "Requirement already satisfied: cached-property in /usr/local/lib/python3.7/dist-packages (from h5py->keras->keras-contrib==2.0.8) (1.5.2)\n"
          ]
        }
      ]
    },
    {
      "cell_type": "code",
      "source": [
        "from keras.models import Model, Input, Sequential\n",
        "from keras.layers import LSTM, Embedding, Dense, TimeDistributed, Dropout, Bidirectional\n",
        "from keras_contrib.layers import CRF\n",
        "from keras_contrib.losses import crf_loss\n",
        "from keras_contrib.metrics import crf_accuracy\n",
        "\n",
        "def build_model():\n",
        "  model = Sequential()\n",
        "  model.add(Embedding(input_dim=max_features, output_dim=200, input_length=max_len))\n",
        "  model.add(Dropout(0.5))\n",
        "  model.add(Bidirectional(LSTM(units=128, return_sequences=True, recurrent_dropout=0.1)))\n",
        "  model.add(TimeDistributed(Dense(len(tag2idx), activation=\"relu\")))\n",
        "  crf_layer = CRF(len(tag2idx))\n",
        "  model.add(crf_layer)\n",
        "\n",
        "  model.compile(optimizer='adam', loss=crf_loss, metrics=[crf_accuracy])\n",
        "  model.summary()\n",
        "\n",
        "  return model"
      ],
      "metadata": {
        "id": "YwIy4NYEkJ8k"
      },
      "execution_count": 27,
      "outputs": []
    },
    {
      "cell_type": "code",
      "source": [
        "model = build_model()"
      ],
      "metadata": {
        "colab": {
          "base_uri": "https://localhost:8080/"
        },
        "id": "HnfQQyogprfF",
        "outputId": "9eedc454-ec5b-416a-8d69-3cce74d922a1"
      },
      "execution_count": 28,
      "outputs": [
        {
          "output_type": "stream",
          "name": "stdout",
          "text": [
            "_________________________________________________________________\n",
            "Layer (type)                 Output Shape              Param #   \n",
            "=================================================================\n",
            "embedding_2 (Embedding)      (None, 113, 200)          6058200   \n",
            "_________________________________________________________________\n",
            "dropout_2 (Dropout)          (None, 113, 200)          0         \n",
            "_________________________________________________________________\n",
            "bidirectional_2 (Bidirection (None, 113, 256)          336896    \n",
            "_________________________________________________________________\n",
            "time_distributed_2 (TimeDist (None, 113, 5)            1285      \n",
            "_________________________________________________________________\n",
            "crf_2 (CRF)                  (None, 113, 5)            65        \n",
            "=================================================================\n",
            "Total params: 6,396,446\n",
            "Trainable params: 6,396,446\n",
            "Non-trainable params: 0\n",
            "_________________________________________________________________\n"
          ]
        }
      ]
    },
    {
      "cell_type": "code",
      "source": [
        "BATCH_SIZE = 128\n",
        "EPOCHS = 10"
      ],
      "metadata": {
        "id": "YeTbnTusTWHs"
      },
      "execution_count": 33,
      "outputs": []
    },
    {
      "cell_type": "code",
      "source": [
        "history = model.fit(train_sentence, train_entity,\n",
        "                    batch_size=BATCH_SIZE,\n",
        "                    epochs=EPOCHS,\n",
        "                    validation_data=[testa_sentence, testa_entity],\n",
        "                    verbose=1)"
      ],
      "metadata": {
        "colab": {
          "base_uri": "https://localhost:8080/"
        },
        "id": "dNCB6ZW8oJrM",
        "outputId": "551700c9-fadd-4b5e-f038-2b40d5ab978d"
      },
      "execution_count": 34,
      "outputs": [
        {
          "output_type": "stream",
          "name": "stdout",
          "text": [
            "Train on 14041 samples, validate on 3250 samples\n",
            "Epoch 1/10\n",
            "14041/14041 [==============================] - 207s 15ms/step - loss: 0.0833 - crf_accuracy: 0.9785 - val_loss: 0.0785 - val_crf_accuracy: 0.9766\n",
            "Epoch 2/10\n",
            "14041/14041 [==============================] - 200s 14ms/step - loss: 0.0569 - crf_accuracy: 0.9806 - val_loss: 0.0528 - val_crf_accuracy: 0.9822\n",
            "Epoch 3/10\n",
            "14041/14041 [==============================] - 177s 13ms/step - loss: 0.0399 - crf_accuracy: 0.9856 - val_loss: 0.0457 - val_crf_accuracy: 0.9830\n",
            "Epoch 4/10\n",
            "14041/14041 [==============================] - 175s 12ms/step - loss: 0.0333 - crf_accuracy: 0.9868 - val_loss: 0.0415 - val_crf_accuracy: 0.9840\n",
            "Epoch 5/10\n",
            "14041/14041 [==============================] - 175s 12ms/step - loss: 0.0289 - crf_accuracy: 0.9896 - val_loss: 0.0375 - val_crf_accuracy: 0.9875\n",
            "Epoch 6/10\n",
            "14041/14041 [==============================] - 176s 13ms/step - loss: 0.0240 - crf_accuracy: 0.9917 - val_loss: 0.0336 - val_crf_accuracy: 0.9885\n",
            "Epoch 7/10\n",
            "14041/14041 [==============================] - 175s 12ms/step - loss: 0.0203 - crf_accuracy: 0.9924 - val_loss: 0.0322 - val_crf_accuracy: 0.9885\n",
            "Epoch 8/10\n",
            "14041/14041 [==============================] - 173s 12ms/step - loss: 0.0176 - crf_accuracy: 0.9940 - val_loss: 0.0301 - val_crf_accuracy: 0.9911\n",
            "Epoch 9/10\n",
            "14041/14041 [==============================] - 173s 12ms/step - loss: 0.0147 - crf_accuracy: 0.9962 - val_loss: 0.0285 - val_crf_accuracy: 0.9929\n",
            "Epoch 10/10\n",
            "14041/14041 [==============================] - 184s 13ms/step - loss: 0.0115 - crf_accuracy: 0.9979 - val_loss: 0.0269 - val_crf_accuracy: 0.9933\n"
          ]
        }
      ]
    },
    {
      "cell_type": "code",
      "source": [
        "import pandas as pd\n",
        "\n",
        "hist = pd.DataFrame(history.history)"
      ],
      "metadata": {
        "id": "z2VaxdfYWQK0"
      },
      "execution_count": 35,
      "outputs": []
    },
    {
      "cell_type": "code",
      "source": [
        "import matplotlib.pyplot as plt\n",
        "plt.style.use(\"ggplot\")\n",
        "plt.figure(figsize=(12,12))\n",
        "plt.plot(hist[\"crf_accuracy\"])\n",
        "plt.plot(hist[\"val_crf_accuracy\"])\n",
        "plt.show()"
      ],
      "metadata": {
        "colab": {
          "base_uri": "https://localhost:8080/",
          "height": 700
        },
        "id": "-ecfxs8RWPXt",
        "outputId": "3be606f8-aff7-4a12-e318-124e12cdeb08"
      },
      "execution_count": 39,
      "outputs": [
        {
          "output_type": "display_data",
          "data": {
            "text/plain": [
              "<Figure size 864x864 with 1 Axes>"
            ],
            "image/png": "[encoded data removed]"
          },
          "metadata": {}
        }
      ]
    },
    {
      "cell_type": "code",
      "source": [
        "model.save_weights(\"/content/bilstm_crf_best_model_weights.h5\")"
      ],
      "metadata": {
        "id": "DiR4waNPnvNM"
      },
      "execution_count": 41,
      "outputs": []
    },
    {
      "cell_type": "code",
      "source": [
        "model.evaluate(testb_sentence, testb_entity)"
      ],
      "metadata": {
        "colab": {
          "base_uri": "https://localhost:8080/"
        },
        "id": "WAd0EriBY6ZC",
        "outputId": "4d973471-8fd1-4cee-c547-f7213f66fa8f"
      },
      "execution_count": 43,
      "outputs": [
        {
          "output_type": "stream",
          "name": "stdout",
          "text": [
            "3453/3453 [==============================] - 16s 5ms/step\n"
          ]
        },
        {
          "output_type": "execute_result",
          "data": {
            "text/plain": [
              "[0.032792901552840314, 0.991696333785075]"
            ]
          },
          "metadata": {},
          "execution_count": 43
        }
      ]
    },
    {
      "cell_type": "code",
      "source": [
        ""
      ],
      "metadata": {
        "id": "qBQe5YpndwZP"
      },
      "execution_count": 55,
      "outputs": []
    },
    {
      "cell_type": "code",
      "source": [
        ""
      ],
      "metadata": {
        "id": "WVYhrUWReN02"
      },
      "execution_count": 55,
      "outputs": []
    },
    {
      "cell_type": "code",
      "source": [
        ""
      ],
      "metadata": {
        "id": "NnOyEW7aeSTJ"
      },
      "execution_count": null,
      "outputs": []
    }
  ]
}