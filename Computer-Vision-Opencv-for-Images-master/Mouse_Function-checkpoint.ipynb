{
 "cells": [
  {
   "cell_type": "code",
   "execution_count": 11,
   "metadata": {},
   "outputs": [],
   "source": [
    "# import lbraries\n",
    "import cv2\n",
    "import numpy as np\n",
    "\n",
    "# variables\n",
    "# True when the mouse button is Down\n",
    "# False when the mouse button is Up\n",
    "drawing = False \n",
    "ex = -1\n",
    "ey = -1\n",
    "\n",
    "# Function\n",
    "# x,y, flags, params are feed from OpenCv Automaticaly\n",
    "def draw_rectangle(event, x, y, flags, params):\n",
    "    global ex, ey, drawing\n",
    "    \n",
    "    if event == cv2.EVENT_LBUTTONDOWN:\n",
    "        drawing=True\n",
    "        ex, ey = x, y\n",
    "        \n",
    "    elif event == cv2.EVENT_MOUSEMOVE:\n",
    "        if drawing == True:\n",
    "            cv2.rectangle(img,\n",
    "                      (ex,ey),\n",
    "                      (x, y),\n",
    "                      (255, 0 ,255),\n",
    "                      -1)\n",
    "        \n",
    "    elif event == cv2.EVENT_RBUTTONUP:\n",
    "        drawing == False\n",
    "        cv2.rectangle(img,\n",
    "                      (ex,ey),\n",
    "                      (x, y),\n",
    "                      (255, 0 ,255),\n",
    "                      -1)\n",
    "    \n",
    "\n",
    "# Connect yhe function with the callback\n",
    "img = np.zeros((512, 512, 3), np.int8)\n",
    "\n",
    "cv2.namedWindow(winname='Drawing')\n",
    "\n",
    "# callback \n",
    "cv2.setMouseCallback('Drawing', draw_rectangle)\n",
    "\n",
    "# Using OpenCV to show the Image\n",
    "while True:\n",
    "    cv2.imshow('Drawing', img)\n",
    "    \n",
    "    if cv2.waitKey(5) & 0xFF == ord('q'):\n",
    "        break\n",
    "        \n",
    "cv2.destroyAllWindows()"
   ]
  },
  {
   "cell_type": "code",
   "execution_count": null,
   "metadata": {},
   "outputs": [],
   "source": []
  },
  {
   "cell_type": "code",
   "execution_count": null,
   "metadata": {},
   "outputs": [],
   "source": []
  }
 ],
 "metadata": {
  "kernelspec": {
   "display_name": "Python 3",
   "language": "python",
   "name": "python3"
  },
  "language_info": {
   "codemirror_mode": {
    "name": "ipython",
    "version": 3
   },
   "file_extension": ".py",
   "mimetype": "text/x-python",
   "name": "python",
   "nbconvert_exporter": "python",
   "pygments_lexer": "ipython3",
   "version": "3.7.6"
  }
 },
 "nbformat": 4,
 "nbformat_minor": 1
}
