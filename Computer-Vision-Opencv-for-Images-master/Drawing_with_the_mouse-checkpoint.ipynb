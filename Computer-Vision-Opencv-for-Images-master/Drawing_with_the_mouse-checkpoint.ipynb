{
 "cells": [
  {
   "cell_type": "code",
   "execution_count": 1,
   "metadata": {
    "pycharm": {
     "is_executing": true
    }
   },
   "outputs": [],
   "source": [
    "# import libraries\n",
    "import cv2\n",
    "import numpy as np\n",
    "\n",
    "# function\n",
    "# x,y, flags, param are feed from OpenCV outomaticly\n",
    "def draw_circle(event, x, y, flags, params):\n",
    "    if event == cv2.EVENT_LBUTTONDOWN:\n",
    "        cv2.circle(img, \n",
    "                   (x,y), \n",
    "                   70, \n",
    "                   (35, 69, 78),\n",
    "                   -1)\n",
    "\n",
    "# Connect the function with the callback\n",
    "cv2.namedWindow(winname='Drawing')\n",
    "\n",
    "# Callback \n",
    "cv2.setMouseCallback('Drawing', draw_circle)\n",
    "\n",
    "# using opencv to show the image\n",
    "img = np.zeros((512, 512, 3), np.int8)\n",
    "\n",
    "while True:\n",
    "    cv2.imshow('Drawing', img)\n",
    "    if cv2.waitKey(5) & 0xFF == 27:\n",
    "        break\n",
    "        \n",
    "cv2.destroyAllWindows()"
   ]
  },
  {
   "cell_type": "code",
   "execution_count": null,
   "metadata": {},
   "outputs": [],
   "source": []
  }
 ],
 "metadata": {
  "kernelspec": {
   "display_name": "Python 3",
   "language": "python",
   "name": "python3"
  },
  "language_info": {
   "codemirror_mode": {
    "name": "ipython",
    "version": 3
   },
   "file_extension": ".py",
   "mimetype": "text/x-python",
   "name": "python",
   "nbconvert_exporter": "python",
   "pygments_lexer": "ipython3",
   "version": "3.7.6"
  }
 },
 "nbformat": 4,
 "nbformat_minor": 1
}
