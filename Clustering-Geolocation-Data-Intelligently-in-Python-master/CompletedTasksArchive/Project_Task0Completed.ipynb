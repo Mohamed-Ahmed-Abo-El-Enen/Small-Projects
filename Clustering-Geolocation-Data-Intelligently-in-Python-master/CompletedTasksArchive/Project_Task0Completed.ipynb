{
 "cells": [
  {
   "cell_type": "markdown",
   "metadata": {
    "ExecuteTime": {
     "end_time": "2019-08-26T15:10:30.523891Z",
     "start_time": "2019-08-26T15:10:30.512093Z"
    }
   },
   "source": [
    "# Clustering Geolocation Data Intelligently in Python\n",
    "We have taxi rank locations, and want to define key clusters of these taxis where we can build service stations for all taxis operating in that region.\n",
    "\n",
    "## Prerequisites\n",
    "- Basic Matplotlib skills for plotting 2-D data clearly.\n",
    "- Basic understanding of Pandas and how to use it for data manipulation.\n",
    "- The concepts behind clustering algorithms, although we will go through this throughout the project.\n",
    "\n",
    "## Project Outline\n",
    "\n",
    "[**Task 1**](#task1): Exploratory Data Analysis\n",
    "\n",
    "[**Task 2**](#task2): Visualizing Geographical Data\n",
    "\n",
    "[**Task 3**](#task3): Clustering Strength / Performance Metric\n",
    "\n",
    "[**Task 4**](#task4): K-Means Clustering\n",
    "\n",
    "[**Task 5**](#task5): DBSCAN\n",
    "\n",
    "[**Task 6**](#task6): HDBSCAN\n",
    "\n",
    "[**Task 7**](#task7): Addressing Outliers\n",
    "\n",
    "[**Further Reading**](#further)"
   ]
  },
  {
   "cell_type": "code",
   "execution_count": null,
   "metadata": {},
   "outputs": [],
   "source": [
    "import matplotlib\n",
    "%matplotlib inline\n",
    "%config InlineBackend.figure_format = 'svg'\n",
    "import matplotlib.pyplot as plt\n",
    "plt.style.use('ggplot')\n",
    "\n",
    "import pandas as pd\n",
    "import numpy as np\n",
    "\n",
    "from tqdm import tqdm\n",
    "\n",
    "from sklearn.cluster import KMeans, DBSCAN\n",
    "from sklearn.metrics import silhouette_score\n",
    "from sklearn.datasets import make_blobs\n",
    "from sklearn.neighbors import KNeighborsClassifier\n",
    "\n",
    "from ipywidgets import interactive\n",
    "\n",
    "from collections import defaultdict\n",
    "\n",
    "import hdbscan\n",
    "import folium\n",
    "import re\n",
    "\n",
    "\n",
    "cols = ['#e6194b', '#3cb44b', '#ffe119', '#4363d8', '#f58231', '#911eb4',\n",
    "        '#46f0f0', '#f032e6', '#bcf60c', '#fabebe', '#008080', '#e6beff', \n",
    "        '#9a6324', '#fffac8', '#800000', '#aaffc3', '#808000', '#ffd8b1', \n",
    "        '#000075', '#808080']*10"
   ]
  },
  {
   "cell_type": "markdown",
   "metadata": {},
   "source": [
    "<a id='task1'></a>\n",
    "# Task 1: Exploratory Data Analysis"
   ]
  },
  {
   "cell_type": "code",
   "execution_count": null,
   "metadata": {
    "ExecuteTime": {
     "end_time": "2019-08-26T15:10:31.177864Z",
     "start_time": "2019-08-26T15:10:31.164667Z"
    }
   },
   "outputs": [],
   "source": []
  },
  {
   "cell_type": "code",
   "execution_count": null,
   "metadata": {
    "ExecuteTime": {
     "end_time": "2019-08-26T15:10:31.688300Z",
     "start_time": "2019-08-26T15:10:31.673561Z"
    }
   },
   "outputs": [],
   "source": []
  },
  {
   "cell_type": "code",
   "execution_count": null,
   "metadata": {},
   "outputs": [],
   "source": []
  },
  {
   "cell_type": "code",
   "execution_count": null,
   "metadata": {},
   "outputs": [],
   "source": []
  },
  {
   "cell_type": "code",
   "execution_count": null,
   "metadata": {},
   "outputs": [],
   "source": [
    "print(f'Before dropping NaNs and dupes\\t:\\tdf.shape = {df.shape}')\n",
    "\n",
    "\n",
    "print(f'After dropping NaNs and dupes\\t:\\tdf.shape = {df.shape}')"
   ]
  },
  {
   "cell_type": "code",
   "execution_count": null,
   "metadata": {},
   "outputs": [],
   "source": []
  },
  {
   "cell_type": "code",
   "execution_count": null,
   "metadata": {},
   "outputs": [],
   "source": []
  },
  {
   "cell_type": "code",
   "execution_count": null,
   "metadata": {},
   "outputs": [],
   "source": []
  },
  {
   "cell_type": "markdown",
   "metadata": {},
   "source": [
    "<a id='task2'></a>\n",
    "# Task 2: Visualizing Geographical Data\n"
   ]
  },
  {
   "cell_type": "code",
   "execution_count": null,
   "metadata": {},
   "outputs": [],
   "source": []
  },
  {
   "cell_type": "code",
   "execution_count": null,
   "metadata": {
    "ExecuteTime": {
     "end_time": "2019-08-26T15:10:34.638124Z",
     "start_time": "2019-08-26T15:10:34.635069Z"
    }
   },
   "outputs": [],
   "source": []
  },
  {
   "cell_type": "markdown",
   "metadata": {},
   "source": [
    "<a id='task3'></a>\n",
    "# Task 3: Clustering Strength / Performance Metric"
   ]
  },
  {
   "cell_type": "code",
   "execution_count": null,
   "metadata": {},
   "outputs": [],
   "source": []
  },
  {
   "cell_type": "code",
   "execution_count": null,
   "metadata": {},
   "outputs": [],
   "source": []
  },
  {
   "cell_type": "code",
   "execution_count": null,
   "metadata": {},
   "outputs": [],
   "source": []
  },
  {
   "cell_type": "code",
   "execution_count": null,
   "metadata": {},
   "outputs": [],
   "source": []
  },
  {
   "cell_type": "code",
   "execution_count": null,
   "metadata": {},
   "outputs": [],
   "source": []
  },
  {
   "cell_type": "code",
   "execution_count": null,
   "metadata": {},
   "outputs": [],
   "source": []
  },
  {
   "cell_type": "code",
   "execution_count": null,
   "metadata": {},
   "outputs": [],
   "source": []
  },
  {
   "cell_type": "markdown",
   "metadata": {},
   "source": [
    "<a id='task4'></a>\n",
    "# Task 4: K-Means Clustering"
   ]
  },
  {
   "cell_type": "code",
   "execution_count": null,
   "metadata": {},
   "outputs": [],
   "source": [
    "X_blobs, _ = make_blobs(n_samples=1000, centers=50, \n",
    "                        n_features=2, cluster_std=1, random_state=4)"
   ]
  },
  {
   "cell_type": "code",
   "execution_count": null,
   "metadata": {},
   "outputs": [],
   "source": [
    "data = defaultdict(dict)\n",
    "for x in range(1,21):\n",
    "    model = KMeans(n_clusters=3, random_state=17, \n",
    "                   max_iter=x, n_init=1).fit(X_blobs)\n",
    "    \n",
    "    data[x]['class_predictions'] = model.predict(X_blobs)\n",
    "    data[x]['centroids'] = model.cluster_centers_\n",
    "    data[x]['unique_classes'] = np.unique(class_predictions)"
   ]
  },
  {
   "cell_type": "code",
   "execution_count": null,
   "metadata": {},
   "outputs": [],
   "source": [
    "def f(x):\n",
    "    class_predictions = data[x]['class_predictions']\n",
    "    centroids = data[x]['centroids']\n",
    "    unique_classes = data[x]['unique_classes']\n",
    "\n",
    "    for unique_class in unique_classes:\n",
    "            plt.scatter(X_blobs[class_predictions==unique_class][:,0], \n",
    "                        X_blobs[class_predictions==unique_class][:,1], \n",
    "                        alpha=0.3, c=cols[unique_class])\n",
    "    plt.scatter(centroids[:,0], centroids[:,1], s=200, c='#000000', marker='v')\n",
    "    plt.ylim([-15,15]); plt.xlim([-15,15])\n",
    "    plt.title('How K-Means Clusters')\n",
    "\n",
    "interactive_plot = interactive(f, x=(1, 20))\n",
    "output = interactive_plot.children[-1]\n",
    "output.layout.height = '350px'\n",
    "interactive_plot"
   ]
  },
  {
   "cell_type": "code",
   "execution_count": null,
   "metadata": {},
   "outputs": [],
   "source": []
  },
  {
   "cell_type": "code",
   "execution_count": null,
   "metadata": {},
   "outputs": [],
   "source": []
  },
  {
   "cell_type": "code",
   "execution_count": null,
   "metadata": {},
   "outputs": [],
   "source": [
    "m = folium.Map(location=[df.LAT.mean(), df.LON.mean()], zoom_start=9, tiles='Stamen Toner')\n",
    "\n",
    "for _, row in df.iterrows():\n",
    "\n",
    "    # get a colour\n",
    "    # cluster_colour = \n",
    "\n",
    "    folium.CircleMarker(\n",
    "        location= # insert here,\n",
    "        radius=5,\n",
    "        popup= # insert here,\n",
    "        color=cluster_colour,\n",
    "        fill=True,\n",
    "        fill_color=cluster_colour\n",
    "    ).add_to(m)\n",
    "\n",
    "    \n",
    "print(f'K={k}')\n",
    "print(f'Silhouette Score: {silhouette_score(X, class_predictions)}')\n",
    "\n",
    "m.save('kmeans_70.html')"
   ]
  },
  {
   "cell_type": "code",
   "execution_count": null,
   "metadata": {},
   "outputs": [],
   "source": []
  },
  {
   "cell_type": "code",
   "execution_count": null,
   "metadata": {},
   "outputs": [],
   "source": [
    "best_silhouette, best_k = -1, 0\n",
    "\n",
    "for k in tqdm(range(2, 100)):\n",
    "    model = KMeans(n_clusters=k, random_state=1).fit(X)\n",
    "    class_predictions = model.predict(X)\n",
    "    \n",
    "    curr_silhouette = silhouette_score(X, class_predictions)\n",
    "    if curr_silhouette > best_silhouette:\n",
    "        best_k = k\n",
    "        best_silhouette = curr_silhouette\n",
    "        \n",
    "print(f'K={best_k}')\n",
    "print(f'Silhouette Score: {best_silhouette}') "
   ]
  },
  {
   "cell_type": "markdown",
   "metadata": {},
   "source": [
    "<a id='task5'></a>\n",
    "# Task 5: DBSCAN \n",
    "Density-Based Spatial Clustering of Applications with Noise"
   ]
  },
  {
   "cell_type": "code",
   "execution_count": null,
   "metadata": {},
   "outputs": [],
   "source": [
    "# code for indexing out certain values\n",
    "dummy = np.array([-1, -1, -1, 2, 3, 4, 5, -1])"
   ]
  },
  {
   "cell_type": "code",
   "execution_count": null,
   "metadata": {},
   "outputs": [],
   "source": []
  },
  {
   "cell_type": "code",
   "execution_count": null,
   "metadata": {},
   "outputs": [],
   "source": [
    "\n",
    "print(f'Number of clusters found: {len(np.unique(class_predictions))}')\n",
    "print(f'Number of outliers found: {len(class_predictions[class_predictions==-1])}')\n",
    "\n",
    "print(f'Silhouette ignoring outliers: {silhouette_score(X[class_predictions!=-1], class_predictions[class_predictions!=-1])}')\n",
    "\n",
    "no_outliers = 0\n",
    "no_outliers = np.array([(counter+2)*x if x==-1 else x for counter, x in enumerate(class_predictions)])\n",
    "print(f'Silhouette outliers as singletons: {silhouette_score(X, no_outliers)}')"
   ]
  },
  {
   "cell_type": "code",
   "execution_count": null,
   "metadata": {},
   "outputs": [],
   "source": [
    "m"
   ]
  },
  {
   "cell_type": "markdown",
   "metadata": {},
   "source": [
    "<a id='task6'></a>\n",
    "# Task 6: HDBSCAN\n",
    "Hierarchical DBSCAN"
   ]
  },
  {
   "cell_type": "code",
   "execution_count": null,
   "metadata": {},
   "outputs": [],
   "source": []
  },
  {
   "cell_type": "code",
   "execution_count": null,
   "metadata": {},
   "outputs": [],
   "source": [
    "\n",
    "print(f'Number of clusters found: {len(np.unique(class_predictions))-1}')\n",
    "print(f'Number of outliers found: {len(class_predictions[class_predictions==-1])}')\n",
    "\n",
    "print(f'Silhouette ignoring outliers: {silhouette_score(X[class_predictions!=-1], class_predictions[class_predictions!=-1])}')\n",
    "\n",
    "no_outliers = np.array([(counter+2)*x if x==-1 else x for counter, x in enumerate(class_predictions)])\n",
    "print(f'Silhouette outliers as singletons: {silhouette_score(X, no_outliers)}')\n",
    "\n",
    "m"
   ]
  },
  {
   "cell_type": "code",
   "execution_count": null,
   "metadata": {},
   "outputs": [],
   "source": []
  },
  {
   "cell_type": "markdown",
   "metadata": {},
   "source": [
    "<a id='task7'></a>\n",
    "# Task 7: Addressing Outliers\n"
   ]
  },
  {
   "cell_type": "code",
   "execution_count": null,
   "metadata": {},
   "outputs": [],
   "source": []
  },
  {
   "cell_type": "code",
   "execution_count": null,
   "metadata": {},
   "outputs": [],
   "source": []
  },
  {
   "cell_type": "code",
   "execution_count": null,
   "metadata": {},
   "outputs": [],
   "source": []
  },
  {
   "cell_type": "code",
   "execution_count": null,
   "metadata": {},
   "outputs": [],
   "source": []
  },
  {
   "cell_type": "code",
   "execution_count": null,
   "metadata": {},
   "outputs": [],
   "source": []
  },
  {
   "cell_type": "code",
   "execution_count": null,
   "metadata": {},
   "outputs": [],
   "source": []
  },
  {
   "cell_type": "code",
   "execution_count": null,
   "metadata": {},
   "outputs": [],
   "source": []
  },
  {
   "cell_type": "code",
   "execution_count": null,
   "metadata": {},
   "outputs": [],
   "source": []
  },
  {
   "cell_type": "code",
   "execution_count": null,
   "metadata": {},
   "outputs": [],
   "source": []
  },
  {
   "cell_type": "code",
   "execution_count": null,
   "metadata": {},
   "outputs": [],
   "source": [
    "\n",
    "print(f'Number of clusters found: {len(np.unique(class_predictions))}')\n",
    "print(f'Silhouette: {silhouette_score(X, class_predictions)}')\n",
    "\n",
    "m.save('hybrid.html')"
   ]
  },
  {
   "cell_type": "code",
   "execution_count": null,
   "metadata": {},
   "outputs": [],
   "source": []
  },
  {
   "cell_type": "code",
   "execution_count": null,
   "metadata": {},
   "outputs": [],
   "source": []
  },
  {
   "cell_type": "markdown",
   "metadata": {},
   "source": [
    "<a id='further'></a>\n",
    "# Further Reading\n",
    "\n",
    "For some additional reading, feel free to check out [K-Means](https://scikit-learn.org/stable/modules/generated/sklearn.cluster.KMeans.html), [DBSCAN](https://scikit-learn.org/stable/modules/generated/sklearn.cluster.DBSCAN.html), and [HDBSCAN](https://hdbscan.readthedocs.io/en/latest/) clustering respectively.\n",
    "\n",
    "It may be of use to also check out [other forms of clustering](https://scikit-learn.org/stable/modules/clustering.html) that are commonly used and available in the scikit-learn library. HDBSCAN documentation also includes [a good methodology](https://hdbscan.readthedocs.io/en/latest/comparing_clustering_algorithms.html) for choosing your clustering algorithm based on your dataset and other limiting factors."
   ]
  },
  {
   "cell_type": "code",
   "execution_count": null,
   "metadata": {},
   "outputs": [],
   "source": []
  }
 ],
 "metadata": {
  "kernelspec": {
   "display_name": "Python 3",
   "language": "python",
   "name": "python3"
  },
  "language_info": {
   "codemirror_mode": {
    "name": "ipython",
    "version": 3
   },
   "file_extension": ".py",
   "mimetype": "text/x-python",
   "name": "python",
   "nbconvert_exporter": "python",
   "pygments_lexer": "ipython3",
   "version": "3.7.5"
  }
 },
 "nbformat": 4,
 "nbformat_minor": 4
}
